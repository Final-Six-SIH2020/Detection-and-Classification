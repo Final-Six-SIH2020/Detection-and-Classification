{
 "cells": [
  {
   "cell_type": "markdown",
   "metadata": {
    "colab_type": "text",
    "id": "ujQEzkhv6_Mj"
   },
   "source": [
    "# Dataset Download and Extraction"
   ]
  },
  {
   "cell_type": "code",
   "execution_count": 1,
   "metadata": {
    "colab": {
     "base_uri": "https://localhost:8080/",
     "height": 34
    },
    "colab_type": "code",
    "id": "crkuTN3JYgVN",
    "outputId": "e66018fb-b9f0-4bd6-8d16-7fe64d5a2d2b"
   },
   "outputs": [
    {
     "name": "stdout",
     "output_type": "stream",
     "text": [
      "  Building wheel for silence-tensorflow (setup.py) ... \u001b[?25l\u001b[?25hdone\n"
     ]
    }
   ],
   "source": [
    "!pip install -qU googledrivedownloader silence-tensorflow"
   ]
  },
  {
   "cell_type": "code",
   "execution_count": 2,
   "metadata": {
    "colab": {},
    "colab_type": "code",
    "id": "DIDVgoqpZUZg"
   },
   "outputs": [],
   "source": [
    "import os\n",
    "import shutil\n",
    "import pandas as pd\n",
    "import silence_tensorflow"
   ]
  },
  {
   "cell_type": "code",
   "execution_count": 3,
   "metadata": {
    "colab": {
     "base_uri": "https://localhost:8080/",
     "height": 50
    },
    "colab_type": "code",
    "id": "YDSiKjrRTUuz",
    "outputId": "fea7b642-fd74-4a6a-90be-0ebccc29cf4f"
   },
   "outputs": [
    {
     "name": "stdout",
     "output_type": "stream",
     "text": [
      "Downloading 1wfBL7YGEeMNcJz0p5lljQvr5VmZJuxGe into /content/traffic.zip... Done.\n",
      "Unzipping...Done.\n"
     ]
    }
   ],
   "source": [
    "from google_drive_downloader import GoogleDriveDownloader as gdd\n",
    "\n",
    "# https://drive.google.com/file/d/1wfBL7YGEeMNcJz0p5lljQvr5VmZJuxGe/view?usp=sharing\n",
    "gdd.download_file_from_google_drive(file_id='1wfBL7YGEeMNcJz0p5lljQvr5VmZJuxGe',\n",
    "                                    dest_path=f'/content/traffic.zip',\n",
    "                                    unzip=True)\n",
    "\n",
    "os.remove('traffic.zip')"
   ]
  },
  {
   "cell_type": "markdown",
   "metadata": {
    "colab_type": "text",
    "id": "LlUaNiYa7WO5"
   },
   "source": [
    "# Required libraries download "
   ]
  },
  {
   "cell_type": "code",
   "execution_count": 4,
   "metadata": {
    "colab": {
     "base_uri": "https://localhost:8080/",
     "height": 84
    },
    "colab_type": "code",
    "id": "mSe40P77hgj4",
    "outputId": "4c7606bd-27c7-4e30-cfd3-812b78f0c7f5"
   },
   "outputs": [
    {
     "name": "stdout",
     "output_type": "stream",
     "text": [
      "\u001b[?25l\r",
      "\u001b[K     |▌                               | 10kB 27.0MB/s eta 0:00:01\r",
      "\u001b[K     |█                               | 20kB 6.2MB/s eta 0:00:01\r",
      "\u001b[K     |█▋                              | 30kB 7.7MB/s eta 0:00:01\r",
      "\u001b[K     |██                              | 40kB 8.5MB/s eta 0:00:01\r",
      "\u001b[K     |██▋                             | 51kB 7.2MB/s eta 0:00:01\r",
      "\u001b[K     |███▏                            | 61kB 8.2MB/s eta 0:00:01\r",
      "\u001b[K     |███▋                            | 71kB 8.3MB/s eta 0:00:01\r",
      "\u001b[K     |████▏                           | 81kB 8.7MB/s eta 0:00:01\r",
      "\u001b[K     |████▊                           | 92kB 8.9MB/s eta 0:00:01\r",
      "\u001b[K     |█████▏                          | 102kB 9.5MB/s eta 0:00:01\r",
      "\u001b[K     |█████▊                          | 112kB 9.5MB/s eta 0:00:01\r",
      "\u001b[K     |██████▎                         | 122kB 9.5MB/s eta 0:00:01\r",
      "\u001b[K     |██████▊                         | 133kB 9.5MB/s eta 0:00:01\r",
      "\u001b[K     |███████▎                        | 143kB 9.5MB/s eta 0:00:01\r",
      "\u001b[K     |███████▉                        | 153kB 9.5MB/s eta 0:00:01\r",
      "\u001b[K     |████████▎                       | 163kB 9.5MB/s eta 0:00:01\r",
      "\u001b[K     |████████▉                       | 174kB 9.5MB/s eta 0:00:01\r",
      "\u001b[K     |█████████▍                      | 184kB 9.5MB/s eta 0:00:01\r",
      "\u001b[K     |█████████▉                      | 194kB 9.5MB/s eta 0:00:01\r",
      "\u001b[K     |██████████▍                     | 204kB 9.5MB/s eta 0:00:01\r",
      "\u001b[K     |███████████                     | 215kB 9.5MB/s eta 0:00:01\r",
      "\u001b[K     |███████████▍                    | 225kB 9.5MB/s eta 0:00:01\r",
      "\u001b[K     |████████████                    | 235kB 9.5MB/s eta 0:00:01\r",
      "\u001b[K     |████████████▌                   | 245kB 9.5MB/s eta 0:00:01\r",
      "\u001b[K     |█████████████                   | 256kB 9.5MB/s eta 0:00:01\r",
      "\u001b[K     |█████████████▌                  | 266kB 9.5MB/s eta 0:00:01\r",
      "\u001b[K     |██████████████                  | 276kB 9.5MB/s eta 0:00:01\r",
      "\u001b[K     |██████████████▌                 | 286kB 9.5MB/s eta 0:00:01\r",
      "\u001b[K     |███████████████                 | 296kB 9.5MB/s eta 0:00:01\r",
      "\u001b[K     |███████████████▋                | 307kB 9.5MB/s eta 0:00:01\r",
      "\u001b[K     |████████████████                | 317kB 9.5MB/s eta 0:00:01\r",
      "\u001b[K     |████████████████▋               | 327kB 9.5MB/s eta 0:00:01\r",
      "\u001b[K     |█████████████████▏              | 337kB 9.5MB/s eta 0:00:01\r",
      "\u001b[K     |█████████████████▋              | 348kB 9.5MB/s eta 0:00:01\r",
      "\u001b[K     |██████████████████▏             | 358kB 9.5MB/s eta 0:00:01\r",
      "\u001b[K     |██████████████████▊             | 368kB 9.5MB/s eta 0:00:01\r",
      "\u001b[K     |███████████████████▏            | 378kB 9.5MB/s eta 0:00:01\r",
      "\u001b[K     |███████████████████▊            | 389kB 9.5MB/s eta 0:00:01\r",
      "\u001b[K     |████████████████████▎           | 399kB 9.5MB/s eta 0:00:01\r",
      "\u001b[K     |████████████████████▊           | 409kB 9.5MB/s eta 0:00:01\r",
      "\u001b[K     |█████████████████████▎          | 419kB 9.5MB/s eta 0:00:01\r",
      "\u001b[K     |█████████████████████▉          | 430kB 9.5MB/s eta 0:00:01\r",
      "\u001b[K     |██████████████████████▎         | 440kB 9.5MB/s eta 0:00:01\r",
      "\u001b[K     |██████████████████████▉         | 450kB 9.5MB/s eta 0:00:01\r",
      "\u001b[K     |███████████████████████▍        | 460kB 9.5MB/s eta 0:00:01\r",
      "\u001b[K     |███████████████████████▉        | 471kB 9.5MB/s eta 0:00:01\r",
      "\u001b[K     |████████████████████████▍       | 481kB 9.5MB/s eta 0:00:01\r",
      "\u001b[K     |█████████████████████████       | 491kB 9.5MB/s eta 0:00:01\r",
      "\u001b[K     |█████████████████████████▍      | 501kB 9.5MB/s eta 0:00:01\r",
      "\u001b[K     |██████████████████████████      | 512kB 9.5MB/s eta 0:00:01\r",
      "\u001b[K     |██████████████████████████▌     | 522kB 9.5MB/s eta 0:00:01\r",
      "\u001b[K     |███████████████████████████     | 532kB 9.5MB/s eta 0:00:01\r",
      "\u001b[K     |███████████████████████████▌    | 542kB 9.5MB/s eta 0:00:01\r",
      "\u001b[K     |████████████████████████████    | 552kB 9.5MB/s eta 0:00:01\r",
      "\u001b[K     |████████████████████████████▌   | 563kB 9.5MB/s eta 0:00:01\r",
      "\u001b[K     |█████████████████████████████   | 573kB 9.5MB/s eta 0:00:01\r",
      "\u001b[K     |█████████████████████████████▋  | 583kB 9.5MB/s eta 0:00:01\r",
      "\u001b[K     |██████████████████████████████  | 593kB 9.5MB/s eta 0:00:01\r",
      "\u001b[K     |██████████████████████████████▋ | 604kB 9.5MB/s eta 0:00:01\r",
      "\u001b[K     |███████████████████████████████▏| 614kB 9.5MB/s eta 0:00:01\r",
      "\u001b[K     |███████████████████████████████▋| 624kB 9.5MB/s eta 0:00:01\r",
      "\u001b[K     |████████████████████████████████| 634kB 9.5MB/s \n",
      "\u001b[?25h  Building wheel for imgaug (setup.py) ... \u001b[?25l\u001b[?25hdone\n",
      "\u001b[K     |████████████████████████████████| 49.9MB 54kB/s \n",
      "\u001b[K     |████████████████████████████████| 12.4MB 249kB/s \n",
      "\u001b[?25h"
     ]
    }
   ],
   "source": [
    "!pip install -qU imgaug==0.2.6\n",
    "!pip install -qU opencv-contrib-python\n",
    "!pip install -qU scikit-image\n",
    "!pip install -qU imutils"
   ]
  },
  {
   "cell_type": "markdown",
   "metadata": {
    "colab_type": "text",
    "id": "QU7_2hzI7uBW"
   },
   "source": [
    "# Model Building"
   ]
  },
  {
   "cell_type": "code",
   "execution_count": 5,
   "metadata": {
    "colab": {},
    "colab_type": "code",
    "id": "YWdlOl8fnl9r"
   },
   "outputs": [],
   "source": [
    "from tensorflow.keras.layers import BatchNormalization\n",
    "from tensorflow.keras.layers import Conv2D\n",
    "from tensorflow.keras.layers import MaxPooling2D\n",
    "from tensorflow.keras.layers import Activation\n",
    "from tensorflow.keras.layers import Flatten\n",
    "from tensorflow.keras.layers import Dropout\n",
    "from tensorflow.keras.layers import Dense\n",
    "from tensorflow.keras.models import Sequential"
   ]
  },
  {
   "cell_type": "code",
   "execution_count": 6,
   "metadata": {
    "colab": {},
    "colab_type": "code",
    "id": "i8GGat5XkY5d"
   },
   "outputs": [],
   "source": [
    "def build_model(width, height, depth, classes):\n",
    "    model = Sequential()\n",
    "    inputShape = (height, width, depth)\n",
    "    channelDim = -1\n",
    "    \n",
    "    model.add(Conv2D(8, (5, 5), padding=\"same\", input_shape=inputShape))\n",
    "    model.add(Activation(\"relu\"))\n",
    "    model.add(BatchNormalization(axis=channelDim))\n",
    "    model.add(MaxPooling2D(pool_size=(2, 2)))\n",
    "    \n",
    "    model.add(Conv2D(16, (3, 3), padding=\"same\", activation='relu'))\n",
    "    model.add(BatchNormalization(axis=channelDim))\n",
    "    model.add(Conv2D(16, (3, 3), padding=\"same\", activation='relu'))\n",
    "    model.add(BatchNormalization(axis=channelDim))\n",
    "    model.add(MaxPooling2D(pool_size=(2, 2)))\n",
    "    \n",
    "    model.add(Conv2D(32, (3, 3), padding=\"same\", activation='relu'))\n",
    "    model.add(BatchNormalization(axis=channelDim))\n",
    "    model.add(MaxPooling2D(pool_size=(2, 2)))\n",
    "    \n",
    "    # first set of FC => RELU layers\n",
    "    model.add(Flatten())\n",
    "    model.add(Dense(128, activation='relu'))\n",
    "    model.add(BatchNormalization())\n",
    "    model.add(Dropout(0.5))\n",
    "\n",
    "    # second set of FC => RELU layers\n",
    "    model.add(Flatten())\n",
    "    model.add(Dense(128, activation='relu'))\n",
    "    model.add(BatchNormalization())\n",
    "    model.add(Dropout(0.5))\n",
    "\n",
    "    # softmax classifier\n",
    "    model.add(Dense(classes, activation='relu'))\n",
    "    model.add(Activation(\"softmax\"))\n",
    "\n",
    "    return model\n",
    "    "
   ]
  },
  {
   "cell_type": "markdown",
   "metadata": {
    "colab_type": "text",
    "id": "KzkMeJvY8asQ"
   },
   "source": [
    "# Image Preprocessing building data loader"
   ]
  },
  {
   "cell_type": "code",
   "execution_count": 7,
   "metadata": {
    "colab": {},
    "colab_type": "code",
    "id": "TTCP3Yvrpf_e"
   },
   "outputs": [],
   "source": [
    "import matplotlib\n",
    "matplotlib.use(\"Agg\")\n",
    "\n",
    "# import the necessary packages\n",
    "from tensorflow.keras.preprocessing.image import ImageDataGenerator\n",
    "from tensorflow.keras.optimizers import Adam\n",
    "from tensorflow.keras.utils import to_categorical\n",
    "\n",
    "from sklearn.metrics import classification_report\n",
    "\n",
    "from skimage import transform\n",
    "from skimage import exposure\n",
    "from skimage import io\n",
    "\n",
    "import matplotlib.pyplot as plt\n",
    "import numpy as np\n",
    "import random\n",
    "import os"
   ]
  },
  {
   "cell_type": "code",
   "execution_count": 8,
   "metadata": {
    "colab": {
     "base_uri": "https://localhost:8080/",
     "height": 34
    },
    "colab_type": "code",
    "id": "poCbbcJIU955",
    "outputId": "29ed6667-c564-4b22-a491-012738a97323"
   },
   "outputs": [
    {
     "name": "stdout",
     "output_type": "stream",
     "text": [
      "[9 4 2 3 7 8 1 5 6 0]\n"
     ]
    }
   ],
   "source": [
    "test_data = pd.read_csv('/content/gtsrb-german-traffic-sign/Test.csv')\n",
    "test_data.ClassId = test_data.ClassId.replace(list(range(9,43)), 9)\n",
    "print(test_data.ClassId.unique())\n",
    "test_data.to_csv('/content/gtsrb-german-traffic-sign/Test.csv', index=False)"
   ]
  },
  {
   "cell_type": "code",
   "execution_count": 9,
   "metadata": {
    "colab": {},
    "colab_type": "code",
    "id": "UDMEbsvp8rZX"
   },
   "outputs": [],
   "source": [
    "def load_split(basePath, csvPath):\n",
    "    labels = []\n",
    "    data = []\n",
    "    csvFile = pd.read_csv(os.path.join(basePath, csvPath))\n",
    "    csvFile = csvFile.sample(frac=1, axis=0, random_state=42)\n",
    "    csvFile.reset_index(drop=True, inplace=True)\n",
    "\n",
    "    for idx, row in csvFile.iterrows():\n",
    "        label = row['ClassId']\n",
    "        # Train\\9\\209.png\n",
    "        tmp_path = row['Path'].replace(\"\\\\\", \"//\")\n",
    "        imagePath = os.path.join(basePath, tmp_path)\n",
    "        \n",
    "        image = io.imread(imagePath)\n",
    "\n",
    "        # resize the image to be 32x32 pixels, ignoring aspect ratio,\n",
    "        # and then perform Contrast Limited Adaptive Histogram\n",
    "        # Equalization (CLAHE)\n",
    "        \n",
    "        image = transform.resize(image, (32, 32))\n",
    "        image = exposure.equalize_adapthist(image, clip_limit=0.1)\n",
    "        data.append(image)\n",
    "        labels.append(int(label))\n",
    "        print(f\"\\rProcessed {idx+1} total images\", end=\"\")\n",
    "    print()\n",
    "    data = np.array(data)\n",
    "    labels = np.array(labels)\n",
    "    return (data, labels)"
   ]
  },
  {
   "cell_type": "code",
   "execution_count": 10,
   "metadata": {
    "colab": {},
    "colab_type": "code",
    "id": "qDq4W1-H96me"
   },
   "outputs": [],
   "source": [
    "# constants\n",
    "\n",
    "NUM_EPOCHS = 40\n",
    "INIT_LR = 1e-3\n",
    "batch_size = 64"
   ]
  },
  {
   "cell_type": "code",
   "execution_count": 11,
   "metadata": {
    "colab": {
     "base_uri": "https://localhost:8080/",
     "height": 185
    },
    "colab_type": "code",
    "id": "Y5y_6ehACHBc",
    "outputId": "c1614444-3c26-4959-c249-a65b53d1618b"
   },
   "outputs": [
    {
     "data": {
      "text/plain": [
       "['Speed limit (20km/h)',\n",
       " 'Speed limit (30km/h)',\n",
       " 'Speed limit (50km/h)',\n",
       " 'Speed limit (60km/h)',\n",
       " 'Speed limit (70km/h)',\n",
       " 'Speed limit (80km/h)',\n",
       " 'End of speed limit (80km/h)',\n",
       " 'Speed limit (100km/h)',\n",
       " 'Speed limit (120km/h)',\n",
       " 'not speed']"
      ]
     },
     "execution_count": 11,
     "metadata": {
      "tags": []
     },
     "output_type": "execute_result"
    }
   ],
   "source": [
    "# load the label names\n",
    "\n",
    "labelNames = open(\"/content/gtsrb-german-traffic-sign/signnames.csv\").read().strip().split(\"\\n\")[1:]\n",
    "labelNames = [l.split(\",\")[1] for l in labelNames]\n",
    "\n",
    "dataset_path = r'/content/gtsrb-german-traffic-sign'\n",
    "train_path = r\"Train.csv\"\n",
    "test_path = r\"Test.csv\"\n",
    "labelNames"
   ]
  },
  {
   "cell_type": "code",
   "execution_count": 12,
   "metadata": {
    "colab": {
     "base_uri": "https://localhost:8080/",
     "height": 67
    },
    "colab_type": "code",
    "id": "6HGx6rKrDkIB",
    "outputId": "276db595-a9d3-40f9-96a2-97b38017db20"
   },
   "outputs": [
    {
     "name": "stdout",
     "output_type": "stream",
     "text": [
      "Loading training and testing data...\n",
      "Processed 14832 total images\n",
      "Processed 3431 total images\n"
     ]
    }
   ],
   "source": [
    "# load the training and testing data\n",
    "print(\"Loading training and testing data...\")\n",
    "(trainX, trainY) = load_split(dataset_path, train_path)\n",
    "(testX, testY) = load_split(dataset_path, test_path)"
   ]
  },
  {
   "cell_type": "code",
   "execution_count": 13,
   "metadata": {
    "colab": {},
    "colab_type": "code",
    "id": "q_JPX-QTEh6A"
   },
   "outputs": [],
   "source": [
    "# scale the images to the range of [0, 1]\n",
    "\n",
    "trainX = trainX.astype(\"float32\") / 255.0\n",
    "testX = testX.astype(\"float32\") / 255.0"
   ]
  },
  {
   "cell_type": "code",
   "execution_count": 14,
   "metadata": {
    "colab": {
     "base_uri": "https://localhost:8080/",
     "height": 84
    },
    "colab_type": "code",
    "id": "id_iZPaQWsK7",
    "outputId": "8d427d63-1e07-4c1f-99e9-2ceb88600fde"
   },
   "outputs": [
    {
     "name": "stdout",
     "output_type": "stream",
     "text": [
      "(14832, 32, 32, 3)\n",
      "(14832,)\n",
      "(3431, 32, 32, 3)\n",
      "(3431,)\n"
     ]
    }
   ],
   "source": [
    "print(trainX.shape)\n",
    "print(trainY.shape)\n",
    "print(testX.shape)\n",
    "print(testY.shape)"
   ]
  },
  {
   "cell_type": "code",
   "execution_count": 15,
   "metadata": {
    "colab": {
     "base_uri": "https://localhost:8080/",
     "height": 34
    },
    "colab_type": "code",
    "id": "aHtV3wvIEO_D",
    "outputId": "c9d0af53-c029-475b-e14d-c099749787e5"
   },
   "outputs": [
    {
     "name": "stdout",
     "output_type": "stream",
     "text": [
      "10\n"
     ]
    }
   ],
   "source": [
    "# one-hot encode the training and testing labels\n",
    "\n",
    "numLabels = len(np.unique(trainY))\n",
    "print(numLabels)\n",
    "trainY = to_categorical(trainY, numLabels)\n",
    "testY = to_categorical(testY, numLabels)"
   ]
  },
  {
   "cell_type": "code",
   "execution_count": 16,
   "metadata": {
    "colab": {
     "base_uri": "https://localhost:8080/",
     "height": 50
    },
    "colab_type": "code",
    "id": "YhnD1J44U-d3",
    "outputId": "d50fb2df-823b-4fb3-a2bf-845e15f24ae7"
   },
   "outputs": [
    {
     "name": "stdout",
     "output_type": "stream",
     "text": [
      "(14832, 10)\n",
      "(3431, 10)\n"
     ]
    }
   ],
   "source": [
    "print(trainY.shape)\n",
    "print(testY.shape)"
   ]
  },
  {
   "cell_type": "code",
   "execution_count": 17,
   "metadata": {
    "colab": {},
    "colab_type": "code",
    "id": "-gbemONOE7oB"
   },
   "outputs": [],
   "source": [
    "# accounting for skewness in the labeled data\n",
    "\n",
    "classTotals = trainY.sum(axis=0)\n",
    "# print(classTotals)\n",
    "classWeight = classTotals.max() / classTotals\n",
    "# print(classWeight)\n",
    "classWeight = {i: x for i, x  in enumerate(classWeight)}\n",
    "\n",
    "# for key, val in classWeight.items():\n",
    "#     print(key, val, end=\"||\")"
   ]
  },
  {
   "cell_type": "code",
   "execution_count": 18,
   "metadata": {
    "colab": {},
    "colab_type": "code",
    "id": "nxUQ-ksME7qF"
   },
   "outputs": [],
   "source": [
    "# adding image augmentation\n",
    "\n",
    "train_datagen = ImageDataGenerator(\n",
    "    rotation_range=10,\n",
    "\tzoom_range=0.15,\n",
    "\twidth_shift_range=0.1,\n",
    "\theight_shift_range=0.1,\n",
    "\tshear_range=0.15,\n",
    "\thorizontal_flip=False,\n",
    "\tvertical_flip=False,\n",
    "\tfill_mode=\"nearest\"\n",
    ")\n",
    "\n",
    "train_generator = train_datagen.flow(trainX, trainY, batch_size=batch_size)"
   ]
  },
  {
   "cell_type": "code",
   "execution_count": 19,
   "metadata": {
    "colab": {},
    "colab_type": "code",
    "id": "rXfyu-b0E7tb"
   },
   "outputs": [],
   "source": [
    "optimizer = Adam(lr=INIT_LR, decay=INIT_LR/(NUM_EPOCHS*0.5))\n",
    "\n",
    "model = build_model(width=32, height=32, depth=3, classes=numLabels)\n",
    "\n",
    "model.compile(loss=\"categorical_crossentropy\", optimizer=optimizer, metrics=['accuracy'])"
   ]
  },
  {
   "cell_type": "code",
   "execution_count": 20,
   "metadata": {
    "colab": {
     "base_uri": "https://localhost:8080/",
     "height": 1000
    },
    "colab_type": "code",
    "id": "-bCrfihPGWJl",
    "outputId": "df9406a8-54a8-42da-cbfa-25fec23bf2d4"
   },
   "outputs": [
    {
     "name": "stdout",
     "output_type": "stream",
     "text": [
      "Epoch 1/40\n",
      "231/231 [==============================] - 8s 36ms/step - loss: 3.6219 - accuracy: 0.1618 - val_loss: 2.3194 - val_accuracy: 0.0551\n",
      "Epoch 2/40\n",
      "231/231 [==============================] - 8s 34ms/step - loss: 2.9466 - accuracy: 0.2512 - val_loss: 2.3999 - val_accuracy: 0.0606\n",
      "Epoch 3/40\n",
      "231/231 [==============================] - 8s 33ms/step - loss: 2.4405 - accuracy: 0.3749 - val_loss: 2.0321 - val_accuracy: 0.2798\n",
      "Epoch 4/40\n",
      "231/231 [==============================] - 8s 34ms/step - loss: 1.8781 - accuracy: 0.5303 - val_loss: 1.1102 - val_accuracy: 0.6677\n",
      "Epoch 5/40\n",
      "231/231 [==============================] - 8s 33ms/step - loss: 1.3549 - accuracy: 0.6622 - val_loss: 1.0107 - val_accuracy: 0.6893\n",
      "Epoch 6/40\n",
      "231/231 [==============================] - 8s 33ms/step - loss: 1.0734 - accuracy: 0.7349 - val_loss: 0.4656 - val_accuracy: 0.8499\n",
      "Epoch 7/40\n",
      "231/231 [==============================] - 8s 34ms/step - loss: 0.8375 - accuracy: 0.7909 - val_loss: 0.5822 - val_accuracy: 0.8225\n",
      "Epoch 8/40\n",
      "231/231 [==============================] - 8s 34ms/step - loss: 0.7111 - accuracy: 0.8261 - val_loss: 0.3694 - val_accuracy: 0.8834\n",
      "Epoch 9/40\n",
      "231/231 [==============================] - 8s 34ms/step - loss: 0.5944 - accuracy: 0.8566 - val_loss: 0.4260 - val_accuracy: 0.8683\n",
      "Epoch 10/40\n",
      "231/231 [==============================] - 8s 34ms/step - loss: 0.5154 - accuracy: 0.8757 - val_loss: 0.2938 - val_accuracy: 0.9070\n",
      "Epoch 11/40\n",
      "231/231 [==============================] - 8s 34ms/step - loss: 0.4502 - accuracy: 0.8934 - val_loss: 0.3725 - val_accuracy: 0.8857\n",
      "Epoch 12/40\n",
      "231/231 [==============================] - 8s 35ms/step - loss: 0.4155 - accuracy: 0.9009 - val_loss: 0.2125 - val_accuracy: 0.9405\n",
      "Epoch 13/40\n",
      "231/231 [==============================] - 8s 34ms/step - loss: 0.3847 - accuracy: 0.9076 - val_loss: 0.4019 - val_accuracy: 0.8779\n",
      "Epoch 14/40\n",
      "231/231 [==============================] - 8s 33ms/step - loss: 0.3446 - accuracy: 0.9163 - val_loss: 0.3685 - val_accuracy: 0.8919\n",
      "Epoch 15/40\n",
      "231/231 [==============================] - 8s 33ms/step - loss: 0.3370 - accuracy: 0.9196 - val_loss: 0.1929 - val_accuracy: 0.9382\n",
      "Epoch 16/40\n",
      "231/231 [==============================] - 8s 33ms/step - loss: 0.2988 - accuracy: 0.9286 - val_loss: 0.1776 - val_accuracy: 0.9400\n",
      "Epoch 17/40\n",
      "231/231 [==============================] - 8s 33ms/step - loss: 0.2915 - accuracy: 0.9294 - val_loss: 0.0995 - val_accuracy: 0.9685\n",
      "Epoch 18/40\n",
      "231/231 [==============================] - 8s 34ms/step - loss: 0.2597 - accuracy: 0.9377 - val_loss: 0.1233 - val_accuracy: 0.9595\n",
      "Epoch 19/40\n",
      "231/231 [==============================] - 8s 33ms/step - loss: 0.2533 - accuracy: 0.9402 - val_loss: 0.2291 - val_accuracy: 0.9236\n",
      "Epoch 20/40\n",
      "231/231 [==============================] - 8s 33ms/step - loss: 0.2453 - accuracy: 0.9411 - val_loss: 0.2159 - val_accuracy: 0.9388\n",
      "Epoch 21/40\n",
      "231/231 [==============================] - 8s 33ms/step - loss: 0.2397 - accuracy: 0.9431 - val_loss: 0.1706 - val_accuracy: 0.9464\n",
      "Epoch 22/40\n",
      "231/231 [==============================] - 8s 33ms/step - loss: 0.2196 - accuracy: 0.9457 - val_loss: 3.5470 - val_accuracy: 0.6680\n",
      "Epoch 23/40\n",
      "231/231 [==============================] - 8s 33ms/step - loss: 0.2192 - accuracy: 0.9484 - val_loss: 0.1387 - val_accuracy: 0.9572\n",
      "Epoch 24/40\n",
      "231/231 [==============================] - 8s 33ms/step - loss: 0.2024 - accuracy: 0.9516 - val_loss: 0.3029 - val_accuracy: 0.9117\n",
      "Epoch 25/40\n",
      "231/231 [==============================] - 8s 34ms/step - loss: 0.1993 - accuracy: 0.9530 - val_loss: 0.1258 - val_accuracy: 0.9633\n",
      "Epoch 26/40\n",
      "231/231 [==============================] - 8s 33ms/step - loss: 0.1685 - accuracy: 0.9592 - val_loss: 0.1130 - val_accuracy: 0.9665\n",
      "Epoch 27/40\n",
      "231/231 [==============================] - 8s 33ms/step - loss: 0.1981 - accuracy: 0.9542 - val_loss: 0.1075 - val_accuracy: 0.9679\n",
      "Epoch 28/40\n",
      "231/231 [==============================] - 8s 34ms/step - loss: 0.1655 - accuracy: 0.9615 - val_loss: 0.1512 - val_accuracy: 0.9557\n",
      "Epoch 29/40\n",
      "231/231 [==============================] - 8s 34ms/step - loss: 0.1772 - accuracy: 0.9577 - val_loss: 0.0792 - val_accuracy: 0.9764\n",
      "Epoch 30/40\n",
      "231/231 [==============================] - 8s 34ms/step - loss: 0.1499 - accuracy: 0.9655 - val_loss: 0.1374 - val_accuracy: 0.9604\n",
      "Epoch 31/40\n",
      "231/231 [==============================] - 8s 33ms/step - loss: 0.1841 - accuracy: 0.9577 - val_loss: 0.1614 - val_accuracy: 0.9519\n",
      "Epoch 32/40\n",
      "231/231 [==============================] - 8s 33ms/step - loss: 0.1560 - accuracy: 0.9628 - val_loss: 0.1196 - val_accuracy: 0.9644\n",
      "Epoch 33/40\n",
      "231/231 [==============================] - 8s 34ms/step - loss: 0.1502 - accuracy: 0.9650 - val_loss: 0.1090 - val_accuracy: 0.9668\n",
      "Epoch 34/40\n",
      "231/231 [==============================] - 8s 34ms/step - loss: 0.1719 - accuracy: 0.9619 - val_loss: 0.1221 - val_accuracy: 0.9627\n",
      "Epoch 35/40\n",
      "231/231 [==============================] - 8s 34ms/step - loss: 0.1359 - accuracy: 0.9681 - val_loss: 0.1127 - val_accuracy: 0.9665\n",
      "Epoch 36/40\n",
      "231/231 [==============================] - 8s 33ms/step - loss: 0.1459 - accuracy: 0.9657 - val_loss: 0.0835 - val_accuracy: 0.9752\n",
      "Epoch 37/40\n",
      "231/231 [==============================] - 8s 33ms/step - loss: 0.1248 - accuracy: 0.9700 - val_loss: 0.1042 - val_accuracy: 0.9706\n",
      "Epoch 38/40\n",
      "231/231 [==============================] - 8s 33ms/step - loss: 0.1248 - accuracy: 0.9707 - val_loss: 0.0934 - val_accuracy: 0.9726\n",
      "Epoch 39/40\n",
      "231/231 [==============================] - 8s 33ms/step - loss: 0.1225 - accuracy: 0.9720 - val_loss: 0.1259 - val_accuracy: 0.9653\n",
      "Epoch 40/40\n",
      "231/231 [==============================] - 8s 33ms/step - loss: 0.1556 - accuracy: 0.9659 - val_loss: 0.1189 - val_accuracy: 0.9624\n"
     ]
    }
   ],
   "source": [
    "# model Training\n",
    "\n",
    "history = model.fit(\n",
    "    train_generator,\n",
    "    steps_per_epoch=trainX.shape[0] // batch_size,\n",
    "    validation_data=(testX, testY),\n",
    "    epochs=NUM_EPOCHS,\n",
    "    class_weight=classWeight\n",
    ")"
   ]
  },
  {
   "cell_type": "code",
   "execution_count": 21,
   "metadata": {
    "colab": {
     "base_uri": "https://localhost:8080/",
     "height": 302
    },
    "colab_type": "code",
    "id": "i6FgVZAlLaCu",
    "outputId": "d64e1bb2-f00e-4d2d-e7d1-c82ec74ab3d6"
   },
   "outputs": [
    {
     "name": "stdout",
     "output_type": "stream",
     "text": [
      "                             precision    recall  f1-score   support\n",
      "\n",
      "       Speed limit (20km/h)       0.86      1.00      0.93        19\n",
      "       Speed limit (30km/h)       0.99      0.98      0.99       196\n",
      "       Speed limit (50km/h)       0.87      0.99      0.93       189\n",
      "       Speed limit (60km/h)       0.97      0.92      0.95       146\n",
      "       Speed limit (70km/h)       0.99      0.95      0.97       175\n",
      "       Speed limit (80km/h)       0.75      0.95      0.84       157\n",
      "End of speed limit (80km/h)       0.79      0.77      0.78        35\n",
      "      Speed limit (100km/h)       0.89      0.98      0.93       131\n",
      "      Speed limit (120km/h)       0.90      0.97      0.93       126\n",
      "                  not speed       1.00      0.96      0.98      2257\n",
      "\n",
      "                   accuracy                           0.96      3431\n",
      "                  macro avg       0.90      0.95      0.92      3431\n",
      "               weighted avg       0.97      0.96      0.96      3431\n",
      "\n"
     ]
    }
   ],
   "source": [
    "# evaluate model\n",
    "\n",
    "predictions = model.predict(testX, batch_size=batch_size)\n",
    "print(classification_report(testY.argmax(axis=1), \n",
    "                            predictions.argmax(axis=1), target_names=labelNames))"
   ]
  },
  {
   "cell_type": "code",
   "execution_count": 24,
   "metadata": {
    "colab": {
     "base_uri": "https://localhost:8080/",
     "height": 517
    },
    "colab_type": "code",
    "id": "9Vih7zMOdVB2",
    "outputId": "088b9a60-d3ff-45ee-e009-3fb16ed375c8"
   },
   "outputs": [
    {
     "data": {
      "image/png": "[encoded data removed]",
      "text/plain": [
       "<Figure size 720x576 with 1 Axes>"
      ]
     },
     "metadata": {
      "tags": []
     },
     "output_type": "display_data"
    }
   ],
   "source": [
    "%matplotlib inline\n",
    "\n",
    "N = np.arange(0, NUM_EPOCHS)\n",
    "plt.style.use(\"ggplot\")\n",
    "plt.figure(figsize=(10, 8))\n",
    "plt.plot(N, history.history[\"loss\"], label=\"train_loss\")\n",
    "plt.plot(N, history.history[\"val_loss\"], label=\"val_loss\")\n",
    "plt.plot(N, history.history[\"accuracy\"], label=\"train_acc\")\n",
    "plt.plot(N, history.history[\"val_accuracy\"], label=\"val_acc\")\n",
    "plt.title(\"Training Loss and Accuracy on Dataset\")\n",
    "plt.xlabel(\"Epochs\")\n",
    "plt.ylabel(\"Loss/Accuracy\")\n",
    "plt.legend(loc=\"upper right\")\n",
    "plt.show()"
   ]
  },
  {
   "cell_type": "code",
   "execution_count": 25,
   "metadata": {
    "colab": {
     "base_uri": "https://localhost:8080/",
     "height": 34
    },
    "colab_type": "code",
    "id": "qtykocrlctkg",
    "outputId": "42251461-7726-4df6-9350-a88e66aaa6da"
   },
   "outputs": [
    {
     "name": "stdout",
     "output_type": "stream",
     "text": [
      "INFO:tensorflow:Assets written to: speed_limit_model/assets\n"
     ]
    }
   ],
   "source": [
    "# saving model\n",
    "import tensorflow as tf\n",
    "SAVE_PATH = 'speed_limit_model/'\n",
    "\n",
    "tf.saved_model.save(model, SAVE_PATH)"
   ]
  },
  {
   "cell_type": "markdown",
   "metadata": {
    "colab_type": "text",
    "id": "6p9Fxtp5iRkd"
   },
   "source": [
    "# Conversion"
   ]
  },
  {
   "cell_type": "code",
   "execution_count": 28,
   "metadata": {
    "colab": {
     "base_uri": "https://localhost:8080/",
     "height": 34
    },
    "colab_type": "code",
    "id": "_o2J6_16XA6C",
    "outputId": "088c6fde-e0cc-404f-c76a-f60c7529fc98"
   },
   "outputs": [
    {
     "data": {
      "text/plain": [
       "376148"
      ]
     },
     "execution_count": 28,
     "metadata": {
      "tags": []
     },
     "output_type": "execute_result"
    }
   ],
   "source": [
    "converter = tf.lite.TFLiteConverter.from_saved_model(SAVE_PATH)\n",
    "tflite_model = converter.convert()\n",
    "\n",
    "tf_model_files = f'speed_limit.tflite' \n",
    "!rm -rf $tf_model_files\n",
    "open(tf_model_files, \"wb\").write(tflite_model)"
   ]
  },
  {
   "cell_type": "code",
   "execution_count": 29,
   "metadata": {
    "colab": {
     "base_uri": "https://localhost:8080/",
     "height": 134
    },
    "colab_type": "code",
    "id": "b5jE6gF0fj79",
    "outputId": "6927fc04-a5a4-4ca5-fcc2-29ad313efd66"
   },
   "outputs": [
    {
     "name": "stdout",
     "output_type": "stream",
     "text": [
      "  adding: speed_limit_model/ (stored 0%)\n",
      "  adding: speed_limit_model/assets/ (stored 0%)\n",
      "  adding: speed_limit_model/variables/ (stored 0%)\n",
      "  adding: speed_limit_model/variables/variables.data-00000-of-00002 (deflated 82%)\n",
      "  adding: speed_limit_model/variables/variables.data-00001-of-00002 (deflated 9%)\n",
      "  adding: speed_limit_model/variables/variables.index (deflated 74%)\n",
      "  adding: speed_limit_model/saved_model.pb (deflated 90%)\n"
     ]
    }
   ],
   "source": [
    "!zip -r speed_limit_model speed_limit_model/"
   ]
  },
  {
   "cell_type": "code",
   "execution_count": null,
   "metadata": {
    "colab": {
     "base_uri": "https://localhost:8080/",
     "height": 150
    },
    "colab_type": "code",
    "id": "V9wQlQRAfj6u",
    "outputId": "6c7900e4-461a-40a4-fbf9-5e2274978a5e"
   },
   "outputs": [
    {
     "name": "stdout",
     "output_type": "stream",
     "text": [
      "Archive:  speed_limit_model.zip\n",
      "   creating: speed_/speed_limit_model/\n",
      "   creating: speed_/speed_limit_model/assets/\n",
      "   creating: speed_/speed_limit_model/variables/\n",
      "  inflating: speed_/speed_limit_model/variables/variables.data-00001-of-00002  \n",
      "  inflating: speed_/speed_limit_model/variables/variables.index  \n",
      "  inflating: speed_/speed_limit_model/variables/variables.data-00000-of-00002  \n",
      "  inflating: speed_/speed_limit_model/saved_model.pb  \n"
     ]
    }
   ],
   "source": [
    "!unzip speed_limit_model.zip -d speed_"
   ]
  }
 ],
 "metadata": {
  "accelerator": "GPU",
  "colab": {
   "collapsed_sections": [],
   "name": "speed_limit_Recognition.ipynb",
   "provenance": []
  },
  "kernelspec": {
   "display_name": "Python 3",
   "language": "python",
   "name": "python3"
  },
  "language_info": {
   "codemirror_mode": {
    "name": "ipython",
    "version": 3
   },
   "file_extension": ".py",
   "mimetype": "text/x-python",
   "name": "python",
   "nbconvert_exporter": "python",
   "pygments_lexer": "ipython3",
   "version": "3.7.7"
  },
  "toc": {
   "base_numbering": 1,
   "nav_menu": {},
   "number_sections": true,
   "sideBar": true,
   "skip_h1_title": false,
   "title_cell": "Table of Contents",
   "title_sidebar": "Contents",
   "toc_cell": false,
   "toc_position": {},
   "toc_section_display": true,
   "toc_window_display": false
  },
  "varInspector": {
   "cols": {
    "lenName": 16,
    "lenType": 16,
    "lenVar": 40
   },
   "kernels_config": {
    "python": {
     "delete_cmd_postfix": "",
     "delete_cmd_prefix": "del ",
     "library": "var_list.py",
     "varRefreshCmd": "print(var_dic_list())"
    },
    "r": {
     "delete_cmd_postfix": ") ",
     "delete_cmd_prefix": "rm(",
     "library": "var_list.r",
     "varRefreshCmd": "cat(var_dic_list()) "
    }
   },
   "types_to_exclude": [
    "module",
    "function",
    "builtin_function_or_method",
    "instance",
    "_Feature"
   ],
   "window_display": false
  }
 },
 "nbformat": 4,
 "nbformat_minor": 1
}
