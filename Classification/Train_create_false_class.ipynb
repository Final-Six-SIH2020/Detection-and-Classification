{
 "cells": [
  {
   "cell_type": "code",
   "execution_count": 46,
   "metadata": {
    "ExecuteTime": {
     "end_time": "2020-07-25T15:53:15.690703Z",
     "start_time": "2020-07-25T15:53:15.684708Z"
    }
   },
   "outputs": [],
   "source": [
    "import os\n",
    "import shutil\n",
    "import itertools\n",
    "import numpy\n",
    "\n",
    "\n",
    "\n",
    "FOLDERS = ['Train']\n",
    "DEST = os.path.join('Train', '44')\n",
    "\n",
    "if os.path.exists(DEST):\n",
    "    shutil.rmtree(DEST)\n",
    "\n",
    "os.makedirs(DEST)"
   ]
  },
  {
   "cell_type": "code",
   "execution_count": 48,
   "metadata": {
    "ExecuteTime": {
     "end_time": "2020-07-25T15:54:24.403660Z",
     "start_time": "2020-07-25T15:53:58.877024Z"
    }
   },
   "outputs": [],
   "source": [
    "selected_files = []\n",
    "i = 1\n",
    "for root, _, files in itertools.islice(os.walk(FOLDERS[0]), 1, None):\n",
    "    curr_dir = int(root.split('\\\\')[-1])\n",
    "\n",
    "    if curr_dir not in list(range(9)) and curr_dir!= 44:\n",
    "        curr_dir_files = np.array([os.path.join(root, file) for file in os.listdir(root)])\n",
    "        chosen_files = np.random.choice(curr_dir_files, 48, False)\n",
    "        for cf in chosen_files:\n",
    "            ext = os.path.splitext(cf)[-1]\n",
    "            fname = f'{i}{ext}'\n",
    "            i += 1\n",
    "#             print(cf, os.path.join(DEST, fname))\n",
    "            shutil.copy(cf, os.path.join(DEST, fname))\n",
    "#         break\n",
    "    \n",
    "\n",
    "        \n",
    "        "
   ]
  }
 ],
 "metadata": {
  "kernelspec": {
   "display_name": "Python 3",
   "language": "python",
   "name": "python3"
  },
  "language_info": {
   "codemirror_mode": {
    "name": "ipython",
    "version": 3
   },
   "file_extension": ".py",
   "mimetype": "text/x-python",
   "name": "python",
   "nbconvert_exporter": "python",
   "pygments_lexer": "ipython3",
   "version": "3.7.7"
  },
  "toc": {
   "base_numbering": 1,
   "nav_menu": {},
   "number_sections": true,
   "sideBar": true,
   "skip_h1_title": false,
   "title_cell": "Table of Contents",
   "title_sidebar": "Contents",
   "toc_cell": false,
   "toc_position": {},
   "toc_section_display": true,
   "toc_window_display": false
  },
  "varInspector": {
   "cols": {
    "lenName": 16,
    "lenType": 16,
    "lenVar": 40
   },
   "kernels_config": {
    "python": {
     "delete_cmd_postfix": "",
     "delete_cmd_prefix": "del ",
     "library": "var_list.py",
     "varRefreshCmd": "print(var_dic_list())"
    },
    "r": {
     "delete_cmd_postfix": ") ",
     "delete_cmd_prefix": "rm(",
     "library": "var_list.r",
     "varRefreshCmd": "cat(var_dic_list()) "
    }
   },
   "types_to_exclude": [
    "module",
    "function",
    "builtin_function_or_method",
    "instance",
    "_Feature"
   ],
   "window_display": false
  }
 },
 "nbformat": 4,
 "nbformat_minor": 4
}
