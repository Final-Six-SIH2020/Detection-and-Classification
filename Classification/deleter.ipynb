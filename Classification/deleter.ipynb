{
 "cells": [
  {
   "cell_type": "code",
   "execution_count": 46,
   "metadata": {
    "ExecuteTime": {
     "end_time": "2020-07-22T21:08:51.041538Z",
     "start_time": "2020-07-22T21:08:51.004327Z"
    }
   },
   "outputs": [],
   "source": [
    "import pandas as pd\n",
    "import numpy as np\n",
    "\n",
    "train_dataset = pd.read_csv(\"Train.csv\")\n",
    "test_dataset = pd.read_csv(\"Test.csv\")\n",
    "\n",
    "true_train = []\n",
    "true_test = []"
   ]
  },
  {
   "cell_type": "code",
   "execution_count": 47,
   "metadata": {
    "ExecuteTime": {
     "end_time": "2020-07-22T21:08:51.383308Z",
     "start_time": "2020-07-22T21:08:51.377321Z"
    },
    "tags": []
   },
   "outputs": [],
   "source": [
    "# for _, data in train_dataset.iterrows():\n",
    "#     if int(data['ClassId']) not in list(range(9)):\n",
    "#         os.remove(data['Path'])"
   ]
  },
  {
   "cell_type": "code",
   "execution_count": 48,
   "metadata": {
    "ExecuteTime": {
     "end_time": "2020-07-22T21:08:51.710148Z",
     "start_time": "2020-07-22T21:08:51.706158Z"
    }
   },
   "outputs": [],
   "source": [
    "# for _, data in test_dataset.iterrows():\n",
    "#     if int(data['ClassId']) not in list(range(9)):\n",
    "#         os.remove(data['Path'])"
   ]
  },
  {
   "cell_type": "code",
   "execution_count": 49,
   "metadata": {
    "ExecuteTime": {
     "end_time": "2020-07-22T21:08:52.554948Z",
     "start_time": "2020-07-22T21:08:52.545936Z"
    }
   },
   "outputs": [
    {
     "name": "stdout",
     "output_type": "stream",
     "text": [
      "<class 'pandas.core.frame.DataFrame'>\n",
      "RangeIndex: 13200 entries, 0 to 13199\n",
      "Data columns (total 8 columns):\n",
      " #   Column   Non-Null Count  Dtype \n",
      "---  ------   --------------  ----- \n",
      " 0   Width    13200 non-null  int64 \n",
      " 1   Height   13200 non-null  int64 \n",
      " 2   Roi.X1   13200 non-null  int64 \n",
      " 3   Roi.Y1   13200 non-null  int64 \n",
      " 4   Roi.X2   13200 non-null  int64 \n",
      " 5   Roi.Y2   13200 non-null  int64 \n",
      " 6   ClassId  13200 non-null  int64 \n",
      " 7   Path     13200 non-null  object\n",
      "dtypes: int64(7), object(1)\n",
      "memory usage: 825.1+ KB\n"
     ]
    }
   ],
   "source": [
    "train_dataset.info()"
   ]
  },
  {
   "cell_type": "code",
   "execution_count": 50,
   "metadata": {
    "ExecuteTime": {
     "end_time": "2020-07-22T21:09:01.686909Z",
     "start_time": "2020-07-22T21:09:01.681924Z"
    }
   },
   "outputs": [],
   "source": [
    "# train_dataset.ClassId.astype('category')"
   ]
  },
  {
   "cell_type": "code",
   "execution_count": 51,
   "metadata": {
    "ExecuteTime": {
     "end_time": "2020-07-22T21:09:08.036116Z",
     "start_time": "2020-07-22T21:09:08.024191Z"
    }
   },
   "outputs": [
    {
     "name": "stdout",
     "output_type": "stream",
     "text": [
      "<class 'pandas.core.frame.DataFrame'>\n",
      "Int64Index: 13200 entries, 0 to 13199\n",
      "Data columns (total 8 columns):\n",
      " #   Column   Non-Null Count  Dtype \n",
      "---  ------   --------------  ----- \n",
      " 0   Width    13200 non-null  int64 \n",
      " 1   Height   13200 non-null  int64 \n",
      " 2   Roi.X1   13200 non-null  int64 \n",
      " 3   Roi.Y1   13200 non-null  int64 \n",
      " 4   Roi.X2   13200 non-null  int64 \n",
      " 5   Roi.Y2   13200 non-null  int64 \n",
      " 6   ClassId  13200 non-null  int64 \n",
      " 7   Path     13200 non-null  object\n",
      "dtypes: int64(7), object(1)\n",
      "memory usage: 928.1+ KB\n"
     ]
    }
   ],
   "source": [
    "train_dataset = train_dataset.loc[train_dataset['ClassId'].isin(['0', '1', '2', '3', '4', '5', '6', '7', '8'])]\n",
    "train_dataset.info()"
   ]
  },
  {
   "cell_type": "code",
   "execution_count": 38,
   "metadata": {
    "ExecuteTime": {
     "end_time": "2020-07-22T21:07:24.159648Z",
     "start_time": "2020-07-22T21:07:24.083791Z"
    }
   },
   "outputs": [],
   "source": [
    "train_dataset.to_csv('Train.csv', index=False)"
   ]
  },
  {
   "cell_type": "code",
   "execution_count": null,
   "metadata": {},
   "outputs": [],
   "source": [
    "test_dataset = test_dataset.loc[test_dataset['ClassId'].isin(['0', '1', '2', '3', '4', '5', '6', '7', '8'])]\n",
    "test_dataset.to_csv('Test.csv', index=False)"
   ]
  }
 ],
 "metadata": {
  "kernelspec": {
   "display_name": "Python 3",
   "language": "python",
   "name": "python3"
  },
  "language_info": {
   "codemirror_mode": {
    "name": "ipython",
    "version": 3
   },
   "file_extension": ".py",
   "mimetype": "text/x-python",
   "name": "python",
   "nbconvert_exporter": "python",
   "pygments_lexer": "ipython3",
   "version": "3.7.7"
  },
  "toc": {
   "base_numbering": 1,
   "nav_menu": {},
   "number_sections": true,
   "sideBar": true,
   "skip_h1_title": false,
   "title_cell": "Table of Contents",
   "title_sidebar": "Contents",
   "toc_cell": false,
   "toc_position": {},
   "toc_section_display": true,
   "toc_window_display": false
  },
  "varInspector": {
   "cols": {
    "lenName": 16,
    "lenType": 16,
    "lenVar": 40
   },
   "kernels_config": {
    "python": {
     "delete_cmd_postfix": "",
     "delete_cmd_prefix": "del ",
     "library": "var_list.py",
     "varRefreshCmd": "print(var_dic_list())"
    },
    "r": {
     "delete_cmd_postfix": ") ",
     "delete_cmd_prefix": "rm(",
     "library": "var_list.r",
     "varRefreshCmd": "cat(var_dic_list()) "
    }
   },
   "types_to_exclude": [
    "module",
    "function",
    "builtin_function_or_method",
    "instance",
    "_Feature"
   ],
   "window_display": false
  }
 },
 "nbformat": 4,
 "nbformat_minor": 2
}
