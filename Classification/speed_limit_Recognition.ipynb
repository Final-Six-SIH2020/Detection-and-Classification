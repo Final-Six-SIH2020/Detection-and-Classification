{
  "nbformat": 4,
  "nbformat_minor": 0,
  "metadata": {
    "colab": {
      "name": "Copy of Traffic Sign Recognition.ipynb",
      "provenance": [],
      "collapsed_sections": []
    },
    "kernelspec": {
      "name": "python3",
      "display_name": "Python 3"
    },
    "accelerator": "GPU"
  },
  "cells": [
    {
      "cell_type": "markdown",
      "metadata": {
        "id": "ujQEzkhv6_Mj",
        "colab_type": "text"
      },
      "source": [
        "# Dataset Download and Extraction"
      ]
    },
    {
      "cell_type": "code",
      "metadata": {
        "id": "crkuTN3JYgVN",
        "colab_type": "code",
        "colab": {
          "base_uri": "https://localhost:8080/",
          "height": 33
        },
        "outputId": "cd78867e-73eb-479b-8047-a50fb5e96863"
      },
      "source": [
        "!pip install -qU googledrivedownloader silence-tensorflow"
      ],
      "execution_count": 1,
      "outputs": [
        {
          "output_type": "stream",
          "text": [
            "  Building wheel for silence-tensorflow (setup.py) ... \u001b[?25l\u001b[?25hdone\n"
          ],
          "name": "stdout"
        }
      ]
    },
    {
      "cell_type": "code",
      "metadata": {
        "id": "DIDVgoqpZUZg",
        "colab_type": "code",
        "colab": {}
      },
      "source": [
        "import os\n",
        "import shutil"
      ],
      "execution_count": 2,
      "outputs": []
    },
    {
      "cell_type": "code",
      "metadata": {
        "id": "YDSiKjrRTUuz",
        "colab_type": "code",
        "colab": {
          "base_uri": "https://localhost:8080/",
          "height": 50
        },
        "outputId": "5461bd1f-9bcd-4d67-9a31-7ae6a4230769"
      },
      "source": [
        "from google_drive_downloader import GoogleDriveDownloader as gdd\n",
        "\n",
        "gdd.download_file_from_google_drive(file_id='1wfBL7YGEeMNcJz0p5lljQvr5VmZJuxGe',\n",
        "                                    dest_path=f'/content/traffic.zip',\n",
        "                                    unzip=True)\n",
        "\n",
        "os.remove('traffic.zip')"
      ],
      "execution_count": 3,
      "outputs": [
        {
          "output_type": "stream",
          "text": [
            "Downloading 1wfBL7YGEeMNcJz0p5lljQvr5VmZJuxGe into /content/traffic.zip... Done.\n",
            "Unzipping...Done.\n"
          ],
          "name": "stdout"
        }
      ]
    },
    {
      "cell_type": "markdown",
      "metadata": {
        "id": "LlUaNiYa7WO5",
        "colab_type": "text"
      },
      "source": [
        "# Required libraries download "
      ]
    },
    {
      "cell_type": "code",
      "metadata": {
        "id": "mSe40P77hgj4",
        "colab_type": "code",
        "colab": {
          "base_uri": "https://localhost:8080/",
          "height": 84
        },
        "outputId": "91097fa6-4286-4719-b9f3-536b137bb7d4"
      },
      "source": [
        "!pip install -qU imgaug==0.2.6\n",
        "!pip install -qU opencv-contrib-python\n",
        "!pip install -qU scikit-image\n",
        "!pip install -qU imutils"
      ],
      "execution_count": 4,
      "outputs": [
        {
          "output_type": "stream",
          "text": [
            "\u001b[?25l\r\u001b[K     |▌                               | 10kB 23.7MB/s eta 0:00:01\r\u001b[K     |█                               | 20kB 2.2MB/s eta 0:00:01\r\u001b[K     |█▋                              | 30kB 2.7MB/s eta 0:00:01\r\u001b[K     |██                              | 40kB 3.1MB/s eta 0:00:01\r\u001b[K     |██▋                             | 51kB 2.5MB/s eta 0:00:01\r\u001b[K     |███▏                            | 61kB 2.8MB/s eta 0:00:01\r\u001b[K     |███▋                            | 71kB 3.1MB/s eta 0:00:01\r\u001b[K     |████▏                           | 81kB 3.4MB/s eta 0:00:01\r\u001b[K     |████▊                           | 92kB 3.6MB/s eta 0:00:01\r\u001b[K     |█████▏                          | 102kB 3.5MB/s eta 0:00:01\r\u001b[K     |█████▊                          | 112kB 3.5MB/s eta 0:00:01\r\u001b[K     |██████▎                         | 122kB 3.5MB/s eta 0:00:01\r\u001b[K     |██████▊                         | 133kB 3.5MB/s eta 0:00:01\r\u001b[K     |███████▎                        | 143kB 3.5MB/s eta 0:00:01\r\u001b[K     |███████▉                        | 153kB 3.5MB/s eta 0:00:01\r\u001b[K     |████████▎                       | 163kB 3.5MB/s eta 0:00:01\r\u001b[K     |████████▉                       | 174kB 3.5MB/s eta 0:00:01\r\u001b[K     |█████████▍                      | 184kB 3.5MB/s eta 0:00:01\r\u001b[K     |█████████▉                      | 194kB 3.5MB/s eta 0:00:01\r\u001b[K     |██████████▍                     | 204kB 3.5MB/s eta 0:00:01\r\u001b[K     |███████████                     | 215kB 3.5MB/s eta 0:00:01\r\u001b[K     |███████████▍                    | 225kB 3.5MB/s eta 0:00:01\r\u001b[K     |████████████                    | 235kB 3.5MB/s eta 0:00:01\r\u001b[K     |████████████▌                   | 245kB 3.5MB/s eta 0:00:01\r\u001b[K     |█████████████                   | 256kB 3.5MB/s eta 0:00:01\r\u001b[K     |█████████████▌                  | 266kB 3.5MB/s eta 0:00:01\r\u001b[K     |██████████████                  | 276kB 3.5MB/s eta 0:00:01\r\u001b[K     |██████████████▌                 | 286kB 3.5MB/s eta 0:00:01\r\u001b[K     |███████████████                 | 296kB 3.5MB/s eta 0:00:01\r\u001b[K     |███████████████▋                | 307kB 3.5MB/s eta 0:00:01\r\u001b[K     |████████████████                | 317kB 3.5MB/s eta 0:00:01\r\u001b[K     |████████████████▋               | 327kB 3.5MB/s eta 0:00:01\r\u001b[K     |█████████████████▏              | 337kB 3.5MB/s eta 0:00:01\r\u001b[K     |█████████████████▋              | 348kB 3.5MB/s eta 0:00:01\r\u001b[K     |██████████████████▏             | 358kB 3.5MB/s eta 0:00:01\r\u001b[K     |██████████████████▊             | 368kB 3.5MB/s eta 0:00:01\r\u001b[K     |███████████████████▏            | 378kB 3.5MB/s eta 0:00:01\r\u001b[K     |███████████████████▊            | 389kB 3.5MB/s eta 0:00:01\r\u001b[K     |████████████████████▎           | 399kB 3.5MB/s eta 0:00:01\r\u001b[K     |████████████████████▊           | 409kB 3.5MB/s eta 0:00:01\r\u001b[K     |█████████████████████▎          | 419kB 3.5MB/s eta 0:00:01\r\u001b[K     |█████████████████████▉          | 430kB 3.5MB/s eta 0:00:01\r\u001b[K     |██████████████████████▎         | 440kB 3.5MB/s eta 0:00:01\r\u001b[K     |██████████████████████▉         | 450kB 3.5MB/s eta 0:00:01\r\u001b[K     |███████████████████████▍        | 460kB 3.5MB/s eta 0:00:01\r\u001b[K     |███████████████████████▉        | 471kB 3.5MB/s eta 0:00:01\r\u001b[K     |████████████████████████▍       | 481kB 3.5MB/s eta 0:00:01\r\u001b[K     |█████████████████████████       | 491kB 3.5MB/s eta 0:00:01\r\u001b[K     |█████████████████████████▍      | 501kB 3.5MB/s eta 0:00:01\r\u001b[K     |██████████████████████████      | 512kB 3.5MB/s eta 0:00:01\r\u001b[K     |██████████████████████████▌     | 522kB 3.5MB/s eta 0:00:01\r\u001b[K     |███████████████████████████     | 532kB 3.5MB/s eta 0:00:01\r\u001b[K     |███████████████████████████▌    | 542kB 3.5MB/s eta 0:00:01\r\u001b[K     |████████████████████████████    | 552kB 3.5MB/s eta 0:00:01\r\u001b[K     |████████████████████████████▌   | 563kB 3.5MB/s eta 0:00:01\r\u001b[K     |█████████████████████████████   | 573kB 3.5MB/s eta 0:00:01\r\u001b[K     |█████████████████████████████▋  | 583kB 3.5MB/s eta 0:00:01\r\u001b[K     |██████████████████████████████  | 593kB 3.5MB/s eta 0:00:01\r\u001b[K     |██████████████████████████████▋ | 604kB 3.5MB/s eta 0:00:01\r\u001b[K     |███████████████████████████████▏| 614kB 3.5MB/s eta 0:00:01\r\u001b[K     |███████████████████████████████▋| 624kB 3.5MB/s eta 0:00:01\r\u001b[K     |████████████████████████████████| 634kB 3.5MB/s \n",
            "\u001b[?25h  Building wheel for imgaug (setup.py) ... \u001b[?25l\u001b[?25hdone\n",
            "\u001b[K     |████████████████████████████████| 49.9MB 55kB/s \n",
            "\u001b[K     |████████████████████████████████| 12.4MB 245kB/s \n",
            "\u001b[?25h"
          ],
          "name": "stdout"
        }
      ]
    },
    {
      "cell_type": "markdown",
      "metadata": {
        "id": "QU7_2hzI7uBW",
        "colab_type": "text"
      },
      "source": [
        "# Model Building"
      ]
    },
    {
      "cell_type": "code",
      "metadata": {
        "id": "YWdlOl8fnl9r",
        "colab_type": "code",
        "colab": {}
      },
      "source": [
        "from tensorflow.keras.layers import BatchNormalization\n",
        "from tensorflow.keras.layers import Conv2D\n",
        "from tensorflow.keras.layers import MaxPooling2D\n",
        "from tensorflow.keras.layers import Activation\n",
        "from tensorflow.keras.layers import Flatten\n",
        "from tensorflow.keras.layers import Dropout\n",
        "from tensorflow.keras.layers import Dense\n",
        "from tensorflow.keras.models import Sequential"
      ],
      "execution_count": 5,
      "outputs": []
    },
    {
      "cell_type": "code",
      "metadata": {
        "id": "i8GGat5XkY5d",
        "colab_type": "code",
        "colab": {}
      },
      "source": [
        "def build_model(width, height, depth, classes):\n",
        "    model = Sequential()\n",
        "    inputShape = (height, width, depth)\n",
        "    channelDim = -1\n",
        "    \n",
        "    model.add(Conv2D(8, (5, 5), padding=\"same\", input_shape=inputShape))\n",
        "    model.add(Activation(\"relu\"))\n",
        "    model.add(BatchNormalization(axis=channelDim))\n",
        "    model.add(MaxPooling2D(pool_size=(2, 2)))\n",
        "    \n",
        "    model.add(Conv2D(16, (3, 3), padding=\"same\", activation='relu'))\n",
        "    model.add(BatchNormalization(axis=channelDim))\n",
        "    model.add(Conv2D(16, (3, 3), padding=\"same\", activation='relu'))\n",
        "    model.add(BatchNormalization(axis=channelDim))\n",
        "    model.add(MaxPooling2D(pool_size=(2, 2)))\n",
        "    \n",
        "    model.add(Conv2D(32, (3, 3), padding=\"same\", activation='relu'))\n",
        "    model.add(BatchNormalization(axis=channelDim))\n",
        "    model.add(MaxPooling2D(pool_size=(2, 2)))\n",
        "    \n",
        "    # first set of FC => RELU layers\n",
        "    model.add(Flatten())\n",
        "    model.add(Dense(128, activation='relu'))\n",
        "    model.add(BatchNormalization())\n",
        "    model.add(Dropout(0.5))\n",
        "\n",
        "    # second set of FC => RELU layers\n",
        "    model.add(Flatten())\n",
        "    model.add(Dense(128, activation='relu'))\n",
        "    model.add(BatchNormalization())\n",
        "    model.add(Dropout(0.5))\n",
        "\n",
        "    # softmax classifier\n",
        "    model.add(Dense(classes, activation='relu'))\n",
        "    model.add(Activation(\"softmax\"))\n",
        "\n",
        "    return model\n",
        "    "
      ],
      "execution_count": 6,
      "outputs": []
    },
    {
      "cell_type": "markdown",
      "metadata": {
        "id": "KzkMeJvY8asQ",
        "colab_type": "text"
      },
      "source": [
        "# Image Preprocessing building data loader"
      ]
    },
    {
      "cell_type": "code",
      "metadata": {
        "id": "TTCP3Yvrpf_e",
        "colab_type": "code",
        "colab": {}
      },
      "source": [
        "import matplotlib\n",
        "matplotlib.use(\"Agg\")\n",
        "\n",
        "# import the necessary packages\n",
        "from tensorflow.keras.preprocessing.image import ImageDataGenerator\n",
        "from tensorflow.keras.optimizers import Adam\n",
        "from tensorflow.keras.utils import to_categorical\n",
        "\n",
        "from sklearn.metrics import classification_report\n",
        "\n",
        "from skimage import transform\n",
        "from skimage import exposure\n",
        "from skimage import io\n",
        "\n",
        "import matplotlib.pyplot as plt\n",
        "import numpy as np\n",
        "import random\n",
        "import os"
      ],
      "execution_count": 7,
      "outputs": []
    },
    {
      "cell_type": "code",
      "metadata": {
        "id": "UDMEbsvp8rZX",
        "colab_type": "code",
        "colab": {}
      },
      "source": [
        "def load_split(basePath, csvPath):\n",
        "    data = []\n",
        "    labels = []\n",
        "    rows = open(csvPath).read().strip().split(\"\\n\")[1:]\n",
        "    random.shuffle(rows)\n",
        "    \n",
        "    for i, row in enumerate(rows):\n",
        "        (label, imagePath) = row.strip().split(\",\")[-2:]\n",
        "        imagePath = os.path.sep.join([basePath, imagePath])\n",
        "        image = io.imread(imagePath)\n",
        "\n",
        "        # resize the image to be 32x32 pixels, ignoring aspect ratio,\n",
        "        # and then perform Contrast Limited Adaptive Histogram\n",
        "        # Equalization (CLAHE)\n",
        "        \n",
        "        image = transform.resize(image, (32, 32))\n",
        "        image = exposure.equalize_adapthist(image, clip_limit=0.1)\n",
        "\n",
        "        data.append(image)\n",
        "        labels.append(int(label))\n",
        "    \n",
        "    print(f\"Processed {i} total images\")\n",
        "        \n",
        "    data = np.array(data)\n",
        "    labels = np.array(labels)\n",
        "    \n",
        "    return (data, labels)"
      ],
      "execution_count": 8,
      "outputs": []
    },
    {
      "cell_type": "code",
      "metadata": {
        "id": "qDq4W1-H96me",
        "colab_type": "code",
        "colab": {}
      },
      "source": [
        "# constants\n",
        "\n",
        "NUM_EPOCHS = 30\n",
        "INIT_LR = 1e-3\n",
        "batch_size = 64"
      ],
      "execution_count": 9,
      "outputs": []
    },
    {
      "cell_type": "code",
      "metadata": {
        "id": "Y5y_6ehACHBc",
        "colab_type": "code",
        "colab": {
          "base_uri": "https://localhost:8080/",
          "height": 167
        },
        "outputId": "c79e7055-72bb-4994-d1b2-5b8b11525ff4"
      },
      "source": [
        "# load the label names\n",
        "\n",
        "labelNames = open(\"/content/gtsrb-german-traffic-sign/signnames.csv\").read().strip().split(\"\\n\")[1:]\n",
        "labelNames = [l.split(\",\")[1] for l in labelNames]\n",
        "\n",
        "dataset_path = r'/content/gtsrb-german-traffic-sign'\n",
        "train_path = r\"/content/gtsrb-german-traffic-sign/Train.csv\"\n",
        "test_path = r\"/content/gtsrb-german-traffic-sign/Test.csv\"\n",
        "labelNames"
      ],
      "execution_count": 10,
      "outputs": [
        {
          "output_type": "execute_result",
          "data": {
            "text/plain": [
              "['Speed limit (20km/h)',\n",
              " 'Speed limit (30km/h)',\n",
              " 'Speed limit (50km/h)',\n",
              " 'Speed limit (60km/h)',\n",
              " 'Speed limit (70km/h)',\n",
              " 'Speed limit (80km/h)',\n",
              " 'End of speed limit (80km/h)',\n",
              " 'Speed limit (100km/h)',\n",
              " 'Speed limit (120km/h)']"
            ]
          },
          "metadata": {
            "tags": []
          },
          "execution_count": 10
        }
      ]
    },
    {
      "cell_type": "code",
      "metadata": {
        "id": "6HGx6rKrDkIB",
        "colab_type": "code",
        "colab": {
          "base_uri": "https://localhost:8080/",
          "height": 67
        },
        "outputId": "9511e355-b3a6-4ec9-e967-3557f0dbe125"
      },
      "source": [
        "# load the training and testing data\n",
        "print(\"Loading training and testing data...\")\n",
        "(trainX, trainY) = load_split(dataset_path, train_path)\n",
        "(testX, testY) = load_split(dataset_path, test_path)"
      ],
      "execution_count": 11,
      "outputs": [
        {
          "output_type": "stream",
          "text": [
            "Loading training and testing data...\n",
            "Processed 13199 total images\n",
            "Processed 4319 total images\n"
          ],
          "name": "stdout"
        }
      ]
    },
    {
      "cell_type": "code",
      "metadata": {
        "id": "q_JPX-QTEh6A",
        "colab_type": "code",
        "colab": {}
      },
      "source": [
        "# scale the images to the range of [0, 1]\n",
        "\n",
        "trainX = trainX.astype(\"float32\") / 255.0\n",
        "testX = testX.astype(\"float32\") / 255.0"
      ],
      "execution_count": 12,
      "outputs": []
    },
    {
      "cell_type": "code",
      "metadata": {
        "id": "id_iZPaQWsK7",
        "colab_type": "code",
        "colab": {
          "base_uri": "https://localhost:8080/",
          "height": 84
        },
        "outputId": "a7c9933a-130f-4015-ba24-0ec1af5dd924"
      },
      "source": [
        "print(trainX.shape)\n",
        "print(trainY.shape)\n",
        "print(testX.shape)\n",
        "print(testY.shape)"
      ],
      "execution_count": 13,
      "outputs": [
        {
          "output_type": "stream",
          "text": [
            "(13200, 32, 32, 3)\n",
            "(13200,)\n",
            "(4320, 32, 32, 3)\n",
            "(4320,)\n"
          ],
          "name": "stdout"
        }
      ]
    },
    {
      "cell_type": "code",
      "metadata": {
        "id": "aHtV3wvIEO_D",
        "colab_type": "code",
        "colab": {
          "base_uri": "https://localhost:8080/",
          "height": 33
        },
        "outputId": "19af3160-efe3-4cd6-d5bd-68740893585d"
      },
      "source": [
        "# one-hot encode the training and testing labels\n",
        "\n",
        "numLabels = len(np.unique(trainY))\n",
        "print(numLabels)\n",
        "trainY = to_categorical(trainY, numLabels)\n",
        "testY = to_categorical(testY, numLabels)"
      ],
      "execution_count": 14,
      "outputs": [
        {
          "output_type": "stream",
          "text": [
            "9\n"
          ],
          "name": "stdout"
        }
      ]
    },
    {
      "cell_type": "code",
      "metadata": {
        "id": "YhnD1J44U-d3",
        "colab_type": "code",
        "colab": {
          "base_uri": "https://localhost:8080/",
          "height": 50
        },
        "outputId": "5cbaa784-8e9c-4957-ee93-9a478a6b83d0"
      },
      "source": [
        "print(trainY.shape)\n",
        "print(testY.shape)"
      ],
      "execution_count": 15,
      "outputs": [
        {
          "output_type": "stream",
          "text": [
            "(13200, 9)\n",
            "(4320, 9)\n"
          ],
          "name": "stdout"
        }
      ]
    },
    {
      "cell_type": "code",
      "metadata": {
        "id": "-gbemONOE7oB",
        "colab_type": "code",
        "colab": {}
      },
      "source": [
        "# accounting for skewness in the labeled data\n",
        "\n",
        "classTotals = trainY.sum(axis=0)\n",
        "# print(classTotals)\n",
        "classWeight = classTotals.max() / classTotals\n",
        "# print(classWeight)\n",
        "classWeight = {i: x for i, x  in enumerate(classWeight)}\n",
        "\n",
        "# for key, val in classWeight.items():\n",
        "#     print(key, val, end=\"||\")"
      ],
      "execution_count": 16,
      "outputs": []
    },
    {
      "cell_type": "code",
      "metadata": {
        "id": "nxUQ-ksME7qF",
        "colab_type": "code",
        "colab": {}
      },
      "source": [
        "# adding image augmentation\n",
        "\n",
        "train_datagen = ImageDataGenerator(\n",
        "    rotation_range=10,\n",
        "\tzoom_range=0.15,\n",
        "\twidth_shift_range=0.1,\n",
        "\theight_shift_range=0.1,\n",
        "\tshear_range=0.15,\n",
        "\thorizontal_flip=False,\n",
        "\tvertical_flip=False,\n",
        "\tfill_mode=\"nearest\"\n",
        ")\n",
        "\n",
        "train_generator = train_datagen.flow(trainX, trainY, batch_size=batch_size)"
      ],
      "execution_count": 17,
      "outputs": []
    },
    {
      "cell_type": "code",
      "metadata": {
        "id": "rXfyu-b0E7tb",
        "colab_type": "code",
        "colab": {}
      },
      "source": [
        "optimizer = Adam(lr=INIT_LR, decay=INIT_LR/(NUM_EPOCHS*0.5))\n",
        "\n",
        "model = build_model(width=32, height=32, depth=3, classes=numLabels)\n",
        "\n",
        "model.compile(loss=\"categorical_crossentropy\", optimizer=optimizer, metrics=['accuracy'])"
      ],
      "execution_count": 18,
      "outputs": []
    },
    {
      "cell_type": "code",
      "metadata": {
        "id": "-bCrfihPGWJl",
        "colab_type": "code",
        "colab": {
          "base_uri": "https://localhost:8080/",
          "height": 1000
        },
        "outputId": "d37b0b75-ece8-4f43-b682-be696eb5bd56"
      },
      "source": [
        "# model Training\n",
        "\n",
        "history = model.fit(\n",
        "    train_generator,\n",
        "    steps_per_epoch=trainX.shape[0] // batch_size,\n",
        "    validation_data=(testX, testY),\n",
        "    epochs=NUM_EPOCHS,\n",
        "    class_weight=classWeight\n",
        ")"
      ],
      "execution_count": 19,
      "outputs": [
        {
          "output_type": "stream",
          "text": [
            "Epoch 1/30\n",
            "206/206 [==============================] - 11s 52ms/step - loss: 3.6030 - accuracy: 0.1575 - val_loss: 3.1630 - val_accuracy: 0.1042\n",
            "Epoch 2/30\n",
            "206/206 [==============================] - 10s 49ms/step - loss: 2.9119 - accuracy: 0.2392 - val_loss: 6.5565 - val_accuracy: 0.1042\n",
            "Epoch 3/30\n",
            "206/206 [==============================] - 10s 49ms/step - loss: 2.3968 - accuracy: 0.3653 - val_loss: 4.8042 - val_accuracy: 0.0808\n",
            "Epoch 4/30\n",
            "206/206 [==============================] - 10s 50ms/step - loss: 1.8605 - accuracy: 0.5107 - val_loss: 0.9626 - val_accuracy: 0.6699\n",
            "Epoch 5/30\n",
            "206/206 [==============================] - 10s 49ms/step - loss: 1.4772 - accuracy: 0.6223 - val_loss: 1.0894 - val_accuracy: 0.6315\n",
            "Epoch 6/30\n",
            "206/206 [==============================] - 10s 49ms/step - loss: 1.1819 - accuracy: 0.7010 - val_loss: 0.6356 - val_accuracy: 0.7725\n",
            "Epoch 7/30\n",
            "206/206 [==============================] - 10s 49ms/step - loss: 0.9967 - accuracy: 0.7547 - val_loss: 0.4955 - val_accuracy: 0.8359\n",
            "Epoch 8/30\n",
            "206/206 [==============================] - 10s 50ms/step - loss: 0.8313 - accuracy: 0.7954 - val_loss: 0.4780 - val_accuracy: 0.8313\n",
            "Epoch 9/30\n",
            "206/206 [==============================] - 10s 51ms/step - loss: 0.7265 - accuracy: 0.8209 - val_loss: 0.3259 - val_accuracy: 0.8894\n",
            "Epoch 10/30\n",
            "206/206 [==============================] - 10s 51ms/step - loss: 0.5918 - accuracy: 0.8531 - val_loss: 0.4857 - val_accuracy: 0.8338\n",
            "Epoch 11/30\n",
            "206/206 [==============================] - 10s 50ms/step - loss: 0.5615 - accuracy: 0.8605 - val_loss: 0.3021 - val_accuracy: 0.8984\n",
            "Epoch 12/30\n",
            "206/206 [==============================] - 11s 52ms/step - loss: 0.5064 - accuracy: 0.8806 - val_loss: 0.3455 - val_accuracy: 0.8808\n",
            "Epoch 13/30\n",
            "206/206 [==============================] - 10s 50ms/step - loss: 0.4395 - accuracy: 0.8927 - val_loss: 0.2375 - val_accuracy: 0.9181\n",
            "Epoch 14/30\n",
            "206/206 [==============================] - 10s 51ms/step - loss: 0.4265 - accuracy: 0.8973 - val_loss: 0.3363 - val_accuracy: 0.8910\n",
            "Epoch 15/30\n",
            "206/206 [==============================] - 11s 51ms/step - loss: 0.3979 - accuracy: 0.9020 - val_loss: 0.2313 - val_accuracy: 0.9250\n",
            "Epoch 16/30\n",
            "206/206 [==============================] - 10s 50ms/step - loss: 0.3502 - accuracy: 0.9137 - val_loss: 0.2780 - val_accuracy: 0.9123\n",
            "Epoch 17/30\n",
            "206/206 [==============================] - 10s 50ms/step - loss: 0.3491 - accuracy: 0.9139 - val_loss: 0.2918 - val_accuracy: 0.9030\n",
            "Epoch 18/30\n",
            "206/206 [==============================] - 10s 51ms/step - loss: 0.3087 - accuracy: 0.9246 - val_loss: 0.2666 - val_accuracy: 0.9164\n",
            "Epoch 19/30\n",
            "206/206 [==============================] - 11s 51ms/step - loss: 0.3239 - accuracy: 0.9221 - val_loss: 0.3558 - val_accuracy: 0.8875\n",
            "Epoch 20/30\n",
            "206/206 [==============================] - 10s 51ms/step - loss: 0.2836 - accuracy: 0.9289 - val_loss: 0.2216 - val_accuracy: 0.9282\n",
            "Epoch 21/30\n",
            "206/206 [==============================] - 10s 50ms/step - loss: 0.2824 - accuracy: 0.9317 - val_loss: 0.2449 - val_accuracy: 0.9206\n",
            "Epoch 22/30\n",
            "206/206 [==============================] - 10s 51ms/step - loss: 0.2777 - accuracy: 0.9338 - val_loss: 0.2354 - val_accuracy: 0.9208\n",
            "Epoch 23/30\n",
            "206/206 [==============================] - 10s 49ms/step - loss: 0.2499 - accuracy: 0.9393 - val_loss: 0.2202 - val_accuracy: 0.9282\n",
            "Epoch 24/30\n",
            "206/206 [==============================] - 10s 50ms/step - loss: 0.2479 - accuracy: 0.9385 - val_loss: 0.2092 - val_accuracy: 0.9324\n",
            "Epoch 25/30\n",
            "206/206 [==============================] - 10s 50ms/step - loss: 0.2804 - accuracy: 0.9341 - val_loss: 0.3094 - val_accuracy: 0.9060\n",
            "Epoch 26/30\n",
            "206/206 [==============================] - 10s 50ms/step - loss: 0.2467 - accuracy: 0.9389 - val_loss: 0.1257 - val_accuracy: 0.9602\n",
            "Epoch 27/30\n",
            "206/206 [==============================] - 10s 50ms/step - loss: 0.2230 - accuracy: 0.9453 - val_loss: 0.1564 - val_accuracy: 0.9502\n",
            "Epoch 28/30\n",
            "206/206 [==============================] - 10s 50ms/step - loss: 0.2065 - accuracy: 0.9485 - val_loss: 0.2135 - val_accuracy: 0.9331\n",
            "Epoch 29/30\n",
            "206/206 [==============================] - 10s 50ms/step - loss: 0.1971 - accuracy: 0.9536 - val_loss: 0.2426 - val_accuracy: 0.9248\n",
            "Epoch 30/30\n",
            "206/206 [==============================] - 10s 49ms/step - loss: 0.1912 - accuracy: 0.9525 - val_loss: 0.1430 - val_accuracy: 0.9574\n"
          ],
          "name": "stdout"
        }
      ]
    },
    {
      "cell_type": "code",
      "metadata": {
        "id": "i6FgVZAlLaCu",
        "colab_type": "code",
        "colab": {
          "base_uri": "https://localhost:8080/",
          "height": 284
        },
        "outputId": "dcf50fae-6357-4976-cd4e-55070dca04a6"
      },
      "source": [
        "# evaluate model\n",
        "\n",
        "predictions = model.predict(testX, batch_size=batch_size)\n",
        "print(classification_report(testY.argmax(axis=1), \n",
        "                            predictions.argmax(axis=1), target_names=labelNames))"
      ],
      "execution_count": 20,
      "outputs": [
        {
          "output_type": "stream",
          "text": [
            "                             precision    recall  f1-score   support\n",
            "\n",
            "       Speed limit (20km/h)       0.98      1.00      0.99        60\n",
            "       Speed limit (30km/h)       0.99      0.97      0.98       720\n",
            "       Speed limit (50km/h)       0.93      0.99      0.96       750\n",
            "       Speed limit (60km/h)       0.99      0.90      0.94       450\n",
            "       Speed limit (70km/h)       0.99      0.97      0.98       660\n",
            "       Speed limit (80km/h)       0.92      0.92      0.92       630\n",
            "End of speed limit (80km/h)       0.97      0.96      0.97       150\n",
            "      Speed limit (100km/h)       0.96      0.96      0.96       450\n",
            "      Speed limit (120km/h)       0.94      0.97      0.95       450\n",
            "\n",
            "                   accuracy                           0.96      4320\n",
            "                  macro avg       0.96      0.96      0.96      4320\n",
            "               weighted avg       0.96      0.96      0.96      4320\n",
            "\n"
          ],
          "name": "stdout"
        }
      ]
    },
    {
      "cell_type": "code",
      "metadata": {
        "id": "qtykocrlctkg",
        "colab_type": "code",
        "colab": {
          "base_uri": "https://localhost:8080/",
          "height": 33
        },
        "outputId": "ef4ff2b6-e84b-423b-d78e-1acef1808681"
      },
      "source": [
        "# saving model\n",
        "import tensorflow as tf\n",
        "SAVE_PATH = 'speed_limit_model/'\n",
        "\n",
        "tf.saved_model.save(model, SAVE_PATH)"
      ],
      "execution_count": 26,
      "outputs": [
        {
          "output_type": "stream",
          "text": [
            "INFO:tensorflow:Assets written to: speed_limit_model/assets\n"
          ],
          "name": "stdout"
        }
      ]
    },
    {
      "cell_type": "code",
      "metadata": {
        "id": "9Vih7zMOdVB2",
        "colab_type": "code",
        "colab": {
          "base_uri": "https://localhost:8080/",
          "height": 517
        },
        "outputId": "0459a220-b6ae-4138-fbfe-199bd15ae2a6"
      },
      "source": [
        "%matplotlib inline\n",
        "\n",
        "N = np.arange(0, NUM_EPOCHS)\n",
        "plt.style.use(\"ggplot\")\n",
        "plt.figure(figsize=(10, 8))\n",
        "plt.plot(N, history.history[\"loss\"], label=\"train_loss\")\n",
        "plt.plot(N, history.history[\"val_loss\"], label=\"val_loss\")\n",
        "plt.plot(N, history.history[\"accuracy\"], label=\"train_acc\")\n",
        "plt.plot(N, history.history[\"val_accuracy\"], label=\"val_acc\")\n",
        "plt.title(\"Training Loss and Accuracy on Dataset\")\n",
        "plt.xlabel(\"Epochs\")\n",
        "plt.ylabel(\"Loss/Accuracy\")\n",
        "plt.legend(loc=\"upper right\")\n",
        "plt.show()"
      ],
      "execution_count": 27,
      "outputs": [
        {
          "output_type": "display_data",
          "data": {
            "image/png": "[encoded data removed]",
            "text/plain": [
              "<Figure size 720x576 with 1 Axes>"
            ]
          },
          "metadata": {
            "tags": []
          }
        }
      ]
    },
    {
      "cell_type": "markdown",
      "metadata": {
        "id": "6p9Fxtp5iRkd",
        "colab_type": "text"
      },
      "source": [
        "# Prediction on sample images"
      ]
    },
    {
      "cell_type": "code",
      "metadata": {
        "id": "p274P4-semQA",
        "colab_type": "code",
        "colab": {}
      },
      "source": [
        "from tensorflow.keras.models import load_model\n",
        "import cv2\n",
        "from imutils import paths\n",
        "import imutils\n",
        "from google.colab.patches import cv2_imshow"
      ],
      "execution_count": 28,
      "outputs": []
    },
    {
      "cell_type": "code",
      "metadata": {
        "id": "uhCXSy6wipCA",
        "colab_type": "code",
        "colab": {}
      },
      "source": [
        "model = load_model(SAVE_PATH)"
      ],
      "execution_count": 29,
      "outputs": []
    },
    {
      "cell_type": "code",
      "metadata": {
        "id": "b5jE6gF0fj79",
        "colab_type": "code",
        "colab": {
          "base_uri": "https://localhost:8080/",
          "height": 134
        },
        "outputId": "58815173-70b8-48b0-a4cc-1e22a58ef4c3"
      },
      "source": [
        "!zip -r speed_limit_model speed_limit_model/"
      ],
      "execution_count": 37,
      "outputs": [
        {
          "output_type": "stream",
          "text": [
            "updating: speed_limit_model/ (stored 0%)\n",
            "  adding: speed_limit_model/assets/ (stored 0%)\n",
            "  adding: speed_limit_model/variables/ (stored 0%)\n",
            "  adding: speed_limit_model/variables/variables.data-00001-of-00002 (deflated 8%)\n",
            "  adding: speed_limit_model/variables/variables.index (deflated 74%)\n",
            "  adding: speed_limit_model/variables/variables.data-00000-of-00002 (deflated 82%)\n",
            "  adding: speed_limit_model/saved_model.pb (deflated 90%)\n"
          ],
          "name": "stdout"
        }
      ]
    },
    {
      "cell_type": "code",
      "metadata": {
        "id": "V9wQlQRAfj6u",
        "colab_type": "code",
        "colab": {
          "base_uri": "https://localhost:8080/",
          "height": 150
        },
        "outputId": "6c7900e4-461a-40a4-fbf9-5e2274978a5e"
      },
      "source": [
        "!unzip speed_limit_model.zip -d speed_"
      ],
      "execution_count": 41,
      "outputs": [
        {
          "output_type": "stream",
          "text": [
            "Archive:  speed_limit_model.zip\n",
            "   creating: speed_/speed_limit_model/\n",
            "   creating: speed_/speed_limit_model/assets/\n",
            "   creating: speed_/speed_limit_model/variables/\n",
            "  inflating: speed_/speed_limit_model/variables/variables.data-00001-of-00002  \n",
            "  inflating: speed_/speed_limit_model/variables/variables.index  \n",
            "  inflating: speed_/speed_limit_model/variables/variables.data-00000-of-00002  \n",
            "  inflating: speed_/speed_limit_model/saved_model.pb  \n"
          ],
          "name": "stdout"
        }
      ]
    }
  ]
}