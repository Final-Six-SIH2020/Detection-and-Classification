{
 "cells": [
  {
   "cell_type": "markdown",
   "metadata": {
    "toc": true
   },
   "source": [
    "<h1>Table of Contents<span class=\"tocSkip\"></span></h1>\n",
    "<div class=\"toc\"><ul class=\"toc-item\"><li><span><a href=\"#Learn-to-Augment-Images-and-Multiple-Bounding-Boxes-for-Deep-Learning-in-4-Steps\" data-toc-modified-id=\"Learn-to-Augment-Images-and-Multiple-Bounding-Boxes-for-Deep-Learning-in-4-Steps-1\"><span class=\"toc-item-num\">1&nbsp;&nbsp;</span><a href=\"https://medium.com/@a.karazhay/guide-augment-images-and-multiple-bounding-boxes-for-deep-learning-in-4-steps-with-the-notebook-9b263e414dac\" target=\"_blank\">Learn to Augment Images and Multiple Bounding Boxes for Deep Learning in 4 Steps</a></a></span></li><li><span><a href=\"#Convert-All-XML-to-one-CSV\" data-toc-modified-id=\"Convert-All-XML-to-one-CSV-2\"><span class=\"toc-item-num\">2&nbsp;&nbsp;</span>Convert All XML to one CSV</a></span></li><li><span><a href=\"#Augment-images\" data-toc-modified-id=\"Augment-images-3\"><span class=\"toc-item-num\">3&nbsp;&nbsp;</span><a href=\"https://imgaug.readthedocs.io/en/latest/source/examples_basics.html\" target=\"_blank\">Augment images</a></a></span></li><li><span><a href=\"#Merge-resized-and-augmented-images\" data-toc-modified-id=\"Merge-resized-and-augmented-images-4\"><span class=\"toc-item-num\">4&nbsp;&nbsp;</span>Merge resized and augmented images</a></span></li></ul></div>"
   ]
  },
  {
   "cell_type": "markdown",
   "metadata": {},
   "source": [
    "# [Learn to Augment Images and Multiple Bounding Boxes for Deep Learning in 4 Steps](https://medium.com/@a.karazhay/guide-augment-images-and-multiple-bounding-boxes-for-deep-learning-in-4-steps-with-the-notebook-9b263e414dac)"
   ]
  },
  {
   "cell_type": "code",
   "execution_count": 1,
   "metadata": {
    "ExecuteTime": {
     "end_time": "2020-07-22T13:24:44.798700Z",
     "start_time": "2020-07-22T13:24:12.103567Z"
    }
   },
   "outputs": [],
   "source": [
    "import imgaug as ia\n",
    "from imgaug.augmentables.bbs import BoundingBox, BoundingBoxesOnImage\n",
    "from imgaug import augmenters as iaa \n",
    "\n",
    "import imageio\n",
    "import pandas as pd\n",
    "import numpy as np\n",
    "import re\n",
    "import os\n",
    "import glob\n",
    "\n",
    "import xml.etree.ElementTree as ET\n",
    "import shutil\n",
    "\n",
    "# imgaug uses matplotlib backend for displaying images\n",
    "ia.seed(1)\n",
    "%matplotlib inline"
   ]
  },
  {
   "cell_type": "markdown",
   "metadata": {},
   "source": [
    "# Convert All XML to one CSV"
   ]
  },
  {
   "cell_type": "code",
   "execution_count": 2,
   "metadata": {
    "ExecuteTime": {
     "end_time": "2020-07-22T13:24:44.819617Z",
     "start_time": "2020-07-22T13:24:44.806643Z"
    }
   },
   "outputs": [],
   "source": [
    "# Function that will extract column data for our CSV file as pandas DataFrame\n",
    "\n",
    "def xml_to_csv(path):\n",
    "    xml_list = []\n",
    "    xml_files = [file for file in os.listdir(path) if file.endswith(\".xml\")]\n",
    "    os.chdir(path)\n",
    "    for xml_file in xml_files:\n",
    "        tree = ET.parse(xml_file)\n",
    "        root = tree.getroot()\n",
    "        name = os.path.splitext(xml_file)[0]\n",
    "        for member in root.findall('object'):\n",
    "            value = None\n",
    "            try:\n",
    "                value = [\n",
    "                    int(root.find('size')[0].text),\n",
    "                    int(root.find('size')[1].text),\n",
    "                    member[0].text,\n",
    "                    int(member[4][0].text),\n",
    "                    int(member[4][1].text),\n",
    "                    int(member[4][2].text),\n",
    "                    int(member[4][3].text)\n",
    "                ]\n",
    "            except:\n",
    "                value = [\n",
    "                    float(root.find('size')[0].text),\n",
    "                    float(root.find('size')[1].text),\n",
    "                    member[0].text,\n",
    "                    float(member[4][0].text),\n",
    "                    float(member[4][1].text),\n",
    "                    float(member[4][2].text),\n",
    "                    float(member[4][3].text)\n",
    "                ]\n",
    "            finally:\n",
    "                value.insert(0, f\"{name}.jpg\")\n",
    "                xml_list.append(value)\n",
    "    column_name = ['filename', 'width', 'height', 'class', 'xmin', 'ymin', 'xmax', 'ymax']\n",
    "    xml_df = pd.DataFrame(xml_list, columns=column_name)\n",
    "    os.chdir(\"..\")\n",
    "    return xml_df"
   ]
  },
  {
   "cell_type": "code",
   "execution_count": 4,
   "metadata": {
    "ExecuteTime": {
     "end_time": "2020-07-22T13:28:43.635902Z",
     "start_time": "2020-07-22T13:28:43.630917Z"
    }
   },
   "outputs": [],
   "source": [
    "IMAGE_SIZES = [300, 320, 512, 640]\n",
    "\n",
    "ROOT_DIR = r'C:\\Users\\batman\\Desktop\\Main\\Detection-and-Classification\\Detection'\n",
    "AFTER_DIR = r'C:\\Users\\batman\\Desktop\\Main\\Detection-and-Classification\\Detection\\scripts'\n",
    "SAVE_PATH = r'C:\\Users\\batman\\Desktop\\Main\\Detection-and-Classification\\Detection\\annotations'\n",
    "\n",
    "if not os.path.exists(SAVE_PATH):\n",
    "    os.makedirs(SAVE_PATH)"
   ]
  },
  {
   "cell_type": "code",
   "execution_count": 5,
   "metadata": {
    "ExecuteTime": {
     "end_time": "2020-07-22T13:29:56.711394Z",
     "start_time": "2020-07-22T13:28:46.477219Z"
    },
    "scrolled": false
   },
   "outputs": [],
   "source": [
    "for IMG_SIZE in IMAGE_SIZES:\n",
    "    if not os.getcwd() == ROOT_DIR:\n",
    "        os.chdir(ROOT_DIR)\n",
    "    # apply the function to convert all XML files in images/ folder into labels.csv\n",
    "    labels_df = xml_to_csv(fr'./all_images/final_images_{IMG_SIZE}/')\n",
    "    labels_df.to_csv((f'{SAVE_PATH}\\labels_{IMG_SIZE}.csv'), index=None)\n",
    "\n",
    "if not os.getcwd() == AFTER_DIR:\n",
    "    os.chdir(AFTER_DIR)\n",
    "    \n",
    "# labels_df"
   ]
  },
  {
   "cell_type": "markdown",
   "metadata": {},
   "source": [
    "# [Augment images](https://imgaug.readthedocs.io/en/latest/source/examples_basics.html)"
   ]
  },
  {
   "cell_type": "code",
   "execution_count": null,
   "metadata": {
    "ExecuteTime": {
     "end_time": "2020-07-10T18:49:56.476062Z",
     "start_time": "2020-07-10T18:49:56.466364Z"
    }
   },
   "outputs": [],
   "source": [
    "# aug = iaa.SomeOf(2, [    \n",
    "#     iaa.Affine(scale=(0.1, 0.2)),\n",
    "#     iaa.Affine(rotate=(-20, 20)),\n",
    "#     iaa.Affine(translate_percent={\"x\":(-0.1, 0.1),\"y\":(-0.25, 0.25)}),\n",
    "#     iaa.GaussianBlur(sigma=(1.0, 2.0)),\n",
    "#     iaa.AdditiveGaussianNoise(scale=(0.09*255, 0.005*255))\n",
    "# ])"
   ]
  },
  {
   "cell_type": "code",
   "execution_count": null,
   "metadata": {
    "ExecuteTime": {
     "end_time": "2020-07-10T19:14:59.707124Z",
     "start_time": "2020-07-10T19:14:59.693253Z"
    }
   },
   "outputs": [],
   "source": [
    "sometimes = lambda aug: iaa.Sometimes(0.5, aug)\n",
    "\n",
    "aug = iaa.SomeOf((0, 5),[\n",
    "                sometimes(\n",
    "                    iaa.Superpixels(\n",
    "                        p_replace=(0, 1.0),\n",
    "                        n_segments=(50, 200)\n",
    "                    )\n",
    "                ),\n",
    "    \n",
    "                iaa.Affine(\n",
    "                    scale={\"x\": (0.8, 1.2), \"y\": (0.8, 1.2)},\n",
    "                    translate_percent={\"x\": (-0.15, 0.15), \"y\": (-0.17, 0.17)},\n",
    "                    rotate=(-25, 25),\n",
    "                    shear=(-8, 8)\n",
    "                ),\n",
    "            \n",
    "                sometimes(\n",
    "                    iaa.AdditiveGaussianNoise(scale=(0.09*255, 0.1*255))\n",
    "                ),\n",
    "                \n",
    "                iaa.OneOf([\n",
    "                    # Add a value of -10 to 10 to each pixel.\n",
    "                    iaa.Add((0, 5), per_channel=1),\n",
    "                    # Change brightness of images (50-150% of original value).\n",
    "                    iaa.Multiply((0.3, 0.6), per_channel=1,),\n",
    "                ])\n",
    "            ],\n",
    "            random_order=True\n",
    "        )"
   ]
  },
  {
   "cell_type": "code",
   "execution_count": null,
   "metadata": {
    "ExecuteTime": {
     "end_time": "2020-07-10T19:15:00.090209Z",
     "start_time": "2020-07-10T19:15:00.073901Z"
    }
   },
   "outputs": [],
   "source": [
    "# function to convert BoundingBoxesOnImage object into DataFrame\n",
    "def bbs_obj_to_df(bbs_object):\n",
    "#     convert BoundingBoxesOnImage object into array\n",
    "    bbs_array = bbs_object.to_xyxy_array()\n",
    "#     convert array into a DataFrame ['xmin', 'ymin', 'xmax', 'ymax'] columns\n",
    "    df_bbs = pd.DataFrame(bbs_array, columns=['xmin', 'ymin', 'xmax', 'ymax'])\n",
    "    return df_bbs"
   ]
  },
  {
   "cell_type": "code",
   "execution_count": null,
   "metadata": {
    "ExecuteTime": {
     "end_time": "2020-07-10T19:15:00.407999Z",
     "start_time": "2020-07-10T19:15:00.383507Z"
    }
   },
   "outputs": [],
   "source": [
    "def image_augmentation(df, images_path, aug_images_path, image_prefix, augmentor):\n",
    "    # create data frame which we're going to populate with augmented image info\n",
    "    aug_bbs_xy = pd.DataFrame(columns=\n",
    "                              ['filename','width','height','class', 'xmin', 'ymin', 'xmax', 'ymax']\n",
    "                             )\n",
    "    grouped = df.groupby('filename')\n",
    "    \n",
    "    for filename in df['filename'].unique():\n",
    "    #   get separate data frame grouped by file name\n",
    "        group_df = grouped.get_group(filename)\n",
    "        group_df = group_df.reset_index()\n",
    "        group_df = group_df.drop(['index'], axis=1)   \n",
    "    #   read the image\n",
    "        image = imageio.imread(images_path+filename)\n",
    "    #   get bounding boxes coordinates and write into array        \n",
    "        bb_array = group_df.drop(['filename', 'width', 'height', 'class'], axis=1).values\n",
    "    #   pass the array of bounding boxes coordinates to the imgaug library\n",
    "        bbs = BoundingBoxesOnImage.from_xyxy_array(bb_array, shape=image.shape)\n",
    "    #   apply augmentation on image and on the bounding boxes\n",
    "        image_aug, bbs_aug = augmentor(image=image, bounding_boxes=bbs)\n",
    "    #   disregard bounding boxes which have fallen out of image pane    \n",
    "        bbs_aug = bbs_aug.remove_out_of_image()\n",
    "    #   clip bounding boxes which are partially outside of image pane\n",
    "        bbs_aug = bbs_aug.clip_out_of_image()\n",
    "        \n",
    "    #   don't perform any actions with the image if there are no bounding boxes left in it    \n",
    "        if re.findall('Image...', str(bbs_aug)) == ['Image([]']:\n",
    "            pass\n",
    "        \n",
    "    #   otherwise continue\n",
    "        else:\n",
    "        #   write augmented image to a file\n",
    "            imageio.imwrite(aug_images_path+image_prefix+filename, image_aug)  \n",
    "        #   create a data frame with augmented values of image width and height\n",
    "            info_df = group_df.drop(['xmin', 'ymin', 'xmax', 'ymax'], axis=1)    \n",
    "            for index, _ in info_df.iterrows():\n",
    "                info_df.at[index, 'width'] = image_aug.shape[1]\n",
    "                info_df.at[index, 'height'] = image_aug.shape[0]\n",
    "        #   rename filenames by adding the predifined prefix\n",
    "            info_df['filename'] = info_df['filename'].apply(lambda x: image_prefix+x)\n",
    "        #   create a data frame with augmented bounding boxes coordinates using the function we created earlier\n",
    "            bbs_df = bbs_obj_to_df(bbs_aug)\n",
    "        #   concat all new augmented info into new data frame\n",
    "            aug_df = pd.concat([info_df, bbs_df], axis=1)\n",
    "        #   append rows to aug_bbs_xy data frame\n",
    "            aug_bbs_xy = pd.concat([aug_bbs_xy, aug_df])            \n",
    "    \n",
    "    # return dataframe with updated images and bounding boxes annotations \n",
    "    aug_bbs_xy = aug_bbs_xy.reset_index()\n",
    "    aug_bbs_xy = aug_bbs_xy.drop(['index'], axis=1)\n",
    "    return aug_bbs_xy"
   ]
  },
  {
   "cell_type": "code",
   "execution_count": null,
   "metadata": {
    "ExecuteTime": {
     "end_time": "2020-07-10T19:16:57.625883Z",
     "start_time": "2020-07-10T19:15:00.751275Z"
    }
   },
   "outputs": [],
   "source": [
    "destination_folder = input(\"Enter destination folder name: \")\n",
    "\n",
    "if os.path.isdir(destination_folder):\n",
    "    shutil.rmtree(destination_folder)\n",
    "\n",
    "os.makedirs(destination_folder)\n",
    "\n",
    "augmented_images_df = image_augmentation(labels_df, 'resized_images/', f'{destination_folder}/', 'aug_', aug)"
   ]
  },
  {
   "cell_type": "markdown",
   "metadata": {},
   "source": [
    "#  Merge resized and augmented images"
   ]
  },
  {
   "cell_type": "code",
   "execution_count": null,
   "metadata": {
    "ExecuteTime": {
     "end_time": "2020-07-10T19:18:04.936966Z",
     "start_time": "2020-07-10T19:18:04.877960Z"
    }
   },
   "outputs": [],
   "source": [
    "# merging dataframe\n",
    "\n",
    "all_labels_df = pd.concat([labels_df, augmented_images_df])\n",
    "all_labels_df.to_csv('all_labels.csv', index=False)"
   ]
  },
  {
   "cell_type": "code",
   "execution_count": null,
   "metadata": {
    "ExecuteTime": {
     "end_time": "2020-07-10T19:19:00.109588Z",
     "start_time": "2020-07-10T19:18:33.738466Z"
    }
   },
   "outputs": [],
   "source": [
    "# merging folder\n",
    "\n",
    "for file in os.listdir(destination_folder):\n",
    "    shutil.copy(f'{destination_folder}/{file}', f'resized_images/{file}')\n",
    "    \n",
    "shutil.rmtree(destination_folder)"
   ]
  },
  {
   "cell_type": "code",
   "execution_count": null,
   "metadata": {
    "ExecuteTime": {
     "end_time": "2020-07-10T19:19:00.209546Z",
     "start_time": "2020-07-10T19:19:00.177651Z"
    }
   },
   "outputs": [],
   "source": [
    "all_labels_df"
   ]
  }
 ],
 "metadata": {
  "kernelspec": {
   "display_name": "Python [conda env:sih3]",
   "language": "python",
   "name": "conda-env-sih3-py"
  },
  "language_info": {
   "codemirror_mode": {
    "name": "ipython",
    "version": 3
   },
   "file_extension": ".py",
   "mimetype": "text/x-python",
   "name": "python",
   "nbconvert_exporter": "python",
   "pygments_lexer": "ipython3",
   "version": "3.7.7"
  },
  "toc": {
   "base_numbering": "1",
   "nav_menu": {},
   "number_sections": true,
   "sideBar": true,
   "skip_h1_title": false,
   "title_cell": "Table of Contents",
   "title_sidebar": "Contents",
   "toc_cell": true,
   "toc_position": {},
   "toc_section_display": true,
   "toc_window_display": false
  },
  "varInspector": {
   "cols": {
    "lenName": 16,
    "lenType": 16,
    "lenVar": 40
   },
   "kernels_config": {
    "python": {
     "delete_cmd_postfix": "",
     "delete_cmd_prefix": "del ",
     "library": "var_list.py",
     "varRefreshCmd": "print(var_dic_list())"
    },
    "r": {
     "delete_cmd_postfix": ") ",
     "delete_cmd_prefix": "rm(",
     "library": "var_list.r",
     "varRefreshCmd": "cat(var_dic_list()) "
    }
   },
   "types_to_exclude": [
    "module",
    "function",
    "builtin_function_or_method",
    "instance",
    "_Feature"
   ],
   "window_display": false
  }
 },
 "nbformat": 4,
 "nbformat_minor": 2
}
