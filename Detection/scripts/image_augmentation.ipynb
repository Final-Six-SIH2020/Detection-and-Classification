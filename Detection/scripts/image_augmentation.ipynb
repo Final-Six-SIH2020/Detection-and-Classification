{
 "cells": [
  {
   "cell_type": "markdown",
   "metadata": {
    "toc": true
   },
   "source": [
    "<h1>Table of Contents<span class=\"tocSkip\"></span></h1>\n",
    "<div class=\"toc\"><ul class=\"toc-item\"><li><span><a href=\"#Learn-to-Augment-Images-and-Multiple-Bounding-Boxes-for-Deep-Learning-in-4-Steps\" data-toc-modified-id=\"Learn-to-Augment-Images-and-Multiple-Bounding-Boxes-for-Deep-Learning-in-4-Steps-1\"><span class=\"toc-item-num\">1&nbsp;&nbsp;</span><a href=\"https://medium.com/@a.karazhay/guide-augment-images-and-multiple-bounding-boxes-for-deep-learning-in-4-steps-with-the-notebook-9b263e414dac\" target=\"_blank\">Learn to Augment Images and Multiple Bounding Boxes for Deep Learning in 4 Steps</a></a></span></li><li><span><a href=\"#Convert-All-XML-to-one-CSV\" data-toc-modified-id=\"Convert-All-XML-to-one-CSV-2\"><span class=\"toc-item-num\">2&nbsp;&nbsp;</span>Convert All XML to one CSV</a></span></li><li><span><a href=\"#Augment-images\" data-toc-modified-id=\"Augment-images-3\"><span class=\"toc-item-num\">3&nbsp;&nbsp;</span><a href=\"https://imgaug.readthedocs.io/en/latest/source/examples_basics.html\" target=\"_blank\">Augment images</a></a></span></li><li><span><a href=\"#Merge-resized-and-augmented-images\" data-toc-modified-id=\"Merge-resized-and-augmented-images-4\"><span class=\"toc-item-num\">4&nbsp;&nbsp;</span>Merge resized and augmented images</a></span></li></ul></div>"
   ]
  },
  {
   "cell_type": "markdown",
   "metadata": {},
   "source": [
    "# [Learn to Augment Images and Multiple Bounding Boxes for Deep Learning in 4 Steps](https://medium.com/@a.karazhay/guide-augment-images-and-multiple-bounding-boxes-for-deep-learning-in-4-steps-with-the-notebook-9b263e414dac)"
   ]
  },
  {
   "cell_type": "code",
   "execution_count": 1,
   "metadata": {
    "ExecuteTime": {
     "end_time": "2020-07-10T18:49:17.435331Z",
     "start_time": "2020-07-10T18:48:58.920087Z"
    }
   },
   "outputs": [],
   "source": [
    "import imgaug as ia\n",
    "from imgaug.augmentables.bbs import BoundingBox, BoundingBoxesOnImage\n",
    "from imgaug import augmenters as iaa \n",
    "\n",
    "import imageio\n",
    "import pandas as pd\n",
    "import numpy as np\n",
    "import re\n",
    "import os\n",
    "import glob\n",
    "\n",
    "import xml.etree.ElementTree as ET\n",
    "import shutil\n",
    "\n",
    "# imgaug uses matplotlib backend for displaying images\n",
    "ia.seed(1)\n",
    "%matplotlib inline"
   ]
  },
  {
   "cell_type": "code",
   "execution_count": 2,
   "metadata": {
    "ExecuteTime": {
     "end_time": "2020-07-10T18:49:17.467643Z",
     "start_time": "2020-07-10T18:49:17.461161Z"
    }
   },
   "outputs": [],
   "source": [
    "IMAGE_SIZE = 320"
   ]
  },
  {
   "cell_type": "markdown",
   "metadata": {},
   "source": [
    "# Convert All XML to one CSV"
   ]
  },
  {
   "cell_type": "code",
   "execution_count": 3,
   "metadata": {
    "ExecuteTime": {
     "end_time": "2020-07-10T18:49:17.609940Z",
     "start_time": "2020-07-10T18:49:17.478590Z"
    }
   },
   "outputs": [],
   "source": [
    "# Function that will extract column data for our CSV file as pandas DataFrame\n",
    "\n",
    "def xml_to_csv(path):\n",
    "    xml_list = []\n",
    "    xml_files = [file for file in os.listdir(path) if file.endswith(\".xml\")]\n",
    "    os.chdir(path)\n",
    "    for xml_file in xml_files:\n",
    "        tree = ET.parse(xml_file)\n",
    "        root = tree.getroot()\n",
    "        name = os.path.splitext(xml_file)[0]\n",
    "        for member in root.findall('object'):\n",
    "            value = None\n",
    "            try:\n",
    "                value = [\n",
    "                    int(root.find('size')[0].text),\n",
    "                    int(root.find('size')[1].text),\n",
    "                    member[0].text,\n",
    "                    int(member[4][0].text),\n",
    "                    int(member[4][1].text),\n",
    "                    int(member[4][2].text),\n",
    "                    int(member[4][3].text)\n",
    "                ]\n",
    "            except:\n",
    "                value = [\n",
    "                    float(root.find('size')[0].text),\n",
    "                    float(root.find('size')[1].text),\n",
    "                    member[0].text,\n",
    "                    float(member[4][0].text),\n",
    "                    float(member[4][1].text),\n",
    "                    float(member[4][2].text),\n",
    "                    float(member[4][3].text)\n",
    "                ]\n",
    "            finally:\n",
    "                value.insert(0, f\"{name}.jpg\")\n",
    "                xml_list.append(value)\n",
    "    column_name = ['filename', 'width', 'height', 'class', 'xmin', 'ymin', 'xmax', 'ymax']\n",
    "    xml_df = pd.DataFrame(xml_list, columns=column_name)\n",
    "    os.chdir(\"..\")\n",
    "    return xml_df"
   ]
  },
  {
   "cell_type": "code",
   "execution_count": 4,
   "metadata": {
    "ExecuteTime": {
     "end_time": "2020-07-10T18:49:52.160493Z",
     "start_time": "2020-07-10T18:49:17.619802Z"
    },
    "scrolled": false
   },
   "outputs": [
    {
     "data": {
      "text/html": [
       "<div>\n",
       "<style scoped>\n",
       "    .dataframe tbody tr th:only-of-type {\n",
       "        vertical-align: middle;\n",
       "    }\n",
       "\n",
       "    .dataframe tbody tr th {\n",
       "        vertical-align: top;\n",
       "    }\n",
       "\n",
       "    .dataframe thead th {\n",
       "        text-align: right;\n",
       "    }\n",
       "</style>\n",
       "<table border=\"1\" class=\"dataframe\">\n",
       "  <thead>\n",
       "    <tr style=\"text-align: right;\">\n",
       "      <th></th>\n",
       "      <th>filename</th>\n",
       "      <th>width</th>\n",
       "      <th>height</th>\n",
       "      <th>class</th>\n",
       "      <th>xmin</th>\n",
       "      <th>ymin</th>\n",
       "      <th>xmax</th>\n",
       "      <th>ymax</th>\n",
       "    </tr>\n",
       "  </thead>\n",
       "  <tbody>\n",
       "    <tr>\n",
       "      <th>0</th>\n",
       "      <td>Bus_1.jpg</td>\n",
       "      <td>320</td>\n",
       "      <td>320</td>\n",
       "      <td>Bus</td>\n",
       "      <td>110</td>\n",
       "      <td>50</td>\n",
       "      <td>291</td>\n",
       "      <td>208</td>\n",
       "    </tr>\n",
       "    <tr>\n",
       "      <th>1</th>\n",
       "      <td>Bus_10.jpg</td>\n",
       "      <td>320</td>\n",
       "      <td>320</td>\n",
       "      <td>Bus</td>\n",
       "      <td>0</td>\n",
       "      <td>143</td>\n",
       "      <td>69</td>\n",
       "      <td>274</td>\n",
       "    </tr>\n",
       "    <tr>\n",
       "      <th>2</th>\n",
       "      <td>Bus_100.jpg</td>\n",
       "      <td>320</td>\n",
       "      <td>320</td>\n",
       "      <td>Bus</td>\n",
       "      <td>46</td>\n",
       "      <td>77</td>\n",
       "      <td>268</td>\n",
       "      <td>264</td>\n",
       "    </tr>\n",
       "    <tr>\n",
       "      <th>3</th>\n",
       "      <td>Bus_101.jpg</td>\n",
       "      <td>320</td>\n",
       "      <td>320</td>\n",
       "      <td>Bus</td>\n",
       "      <td>0</td>\n",
       "      <td>74</td>\n",
       "      <td>19</td>\n",
       "      <td>222</td>\n",
       "    </tr>\n",
       "    <tr>\n",
       "      <th>4</th>\n",
       "      <td>Bus_101.jpg</td>\n",
       "      <td>320</td>\n",
       "      <td>320</td>\n",
       "      <td>Bus</td>\n",
       "      <td>37</td>\n",
       "      <td>47</td>\n",
       "      <td>265</td>\n",
       "      <td>256</td>\n",
       "    </tr>\n",
       "    <tr>\n",
       "      <th>...</th>\n",
       "      <td>...</td>\n",
       "      <td>...</td>\n",
       "      <td>...</td>\n",
       "      <td>...</td>\n",
       "      <td>...</td>\n",
       "      <td>...</td>\n",
       "      <td>...</td>\n",
       "      <td>...</td>\n",
       "    </tr>\n",
       "    <tr>\n",
       "      <th>3070</th>\n",
       "      <td>Traffic_sign_97.jpg</td>\n",
       "      <td>320</td>\n",
       "      <td>320</td>\n",
       "      <td>Traffic_sign</td>\n",
       "      <td>107</td>\n",
       "      <td>110</td>\n",
       "      <td>127</td>\n",
       "      <td>144</td>\n",
       "    </tr>\n",
       "    <tr>\n",
       "      <th>3071</th>\n",
       "      <td>Traffic_sign_97.jpg</td>\n",
       "      <td>320</td>\n",
       "      <td>320</td>\n",
       "      <td>Traffic_sign</td>\n",
       "      <td>150</td>\n",
       "      <td>111</td>\n",
       "      <td>158</td>\n",
       "      <td>135</td>\n",
       "    </tr>\n",
       "    <tr>\n",
       "      <th>3072</th>\n",
       "      <td>Traffic_sign_98.jpg</td>\n",
       "      <td>320</td>\n",
       "      <td>320</td>\n",
       "      <td>Traffic_sign</td>\n",
       "      <td>212</td>\n",
       "      <td>129</td>\n",
       "      <td>272</td>\n",
       "      <td>146</td>\n",
       "    </tr>\n",
       "    <tr>\n",
       "      <th>3073</th>\n",
       "      <td>Traffic_sign_99.jpg</td>\n",
       "      <td>320</td>\n",
       "      <td>320</td>\n",
       "      <td>Traffic_sign</td>\n",
       "      <td>91</td>\n",
       "      <td>31</td>\n",
       "      <td>182</td>\n",
       "      <td>178</td>\n",
       "    </tr>\n",
       "    <tr>\n",
       "      <th>3074</th>\n",
       "      <td>Traffic_sign_99.jpg</td>\n",
       "      <td>320</td>\n",
       "      <td>320</td>\n",
       "      <td>Traffic_sign</td>\n",
       "      <td>127</td>\n",
       "      <td>155</td>\n",
       "      <td>210</td>\n",
       "      <td>294</td>\n",
       "    </tr>\n",
       "  </tbody>\n",
       "</table>\n",
       "<p>3075 rows × 8 columns</p>\n",
       "</div>"
      ],
      "text/plain": [
       "                 filename  width  height         class  xmin  ymin  xmax  ymax\n",
       "0               Bus_1.jpg    320     320           Bus   110    50   291   208\n",
       "1              Bus_10.jpg    320     320           Bus     0   143    69   274\n",
       "2             Bus_100.jpg    320     320           Bus    46    77   268   264\n",
       "3             Bus_101.jpg    320     320           Bus     0    74    19   222\n",
       "4             Bus_101.jpg    320     320           Bus    37    47   265   256\n",
       "...                   ...    ...     ...           ...   ...   ...   ...   ...\n",
       "3070  Traffic_sign_97.jpg    320     320  Traffic_sign   107   110   127   144\n",
       "3071  Traffic_sign_97.jpg    320     320  Traffic_sign   150   111   158   135\n",
       "3072  Traffic_sign_98.jpg    320     320  Traffic_sign   212   129   272   146\n",
       "3073  Traffic_sign_99.jpg    320     320  Traffic_sign    91    31   182   178\n",
       "3074  Traffic_sign_99.jpg    320     320  Traffic_sign   127   155   210   294\n",
       "\n",
       "[3075 rows x 8 columns]"
      ]
     },
     "execution_count": 4,
     "metadata": {},
     "output_type": "execute_result"
    }
   ],
   "source": [
    "# apply the function to convert all XML files in images/ folder into labels.csv\n",
    "\n",
    "labels_df = xml_to_csv('resized_images/')\n",
    "labels_df.to_csv(('labels.csv'), index=None)\n",
    "labels_df"
   ]
  },
  {
   "cell_type": "markdown",
   "metadata": {},
   "source": [
    "# [Augment images](https://imgaug.readthedocs.io/en/latest/source/examples_basics.html)"
   ]
  },
  {
   "cell_type": "code",
   "execution_count": 5,
   "metadata": {
    "ExecuteTime": {
     "end_time": "2020-07-10T18:49:56.476062Z",
     "start_time": "2020-07-10T18:49:56.466364Z"
    }
   },
   "outputs": [],
   "source": [
    "# aug = iaa.SomeOf(2, [    \n",
    "#     iaa.Affine(scale=(0.1, 0.2)),\n",
    "#     iaa.Affine(rotate=(-20, 20)),\n",
    "#     iaa.Affine(translate_percent={\"x\":(-0.1, 0.1),\"y\":(-0.25, 0.25)}),\n",
    "#     iaa.GaussianBlur(sigma=(1.0, 2.0)),\n",
    "#     iaa.AdditiveGaussianNoise(scale=(0.09*255, 0.005*255))\n",
    "# ])"
   ]
  },
  {
   "cell_type": "code",
   "execution_count": 37,
   "metadata": {
    "ExecuteTime": {
     "end_time": "2020-07-10T19:14:59.707124Z",
     "start_time": "2020-07-10T19:14:59.693253Z"
    }
   },
   "outputs": [],
   "source": [
    "sometimes = lambda aug: iaa.Sometimes(0.5, aug)\n",
    "\n",
    "aug = iaa.SomeOf((0, 5),[\n",
    "                sometimes(\n",
    "                    iaa.Superpixels(\n",
    "                        p_replace=(0, 1.0),\n",
    "                        n_segments=(50, 200)\n",
    "                    )\n",
    "                ),\n",
    "    \n",
    "                iaa.Affine(\n",
    "                    scale={\"x\": (0.8, 1.2), \"y\": (0.8, 1.2)},\n",
    "                    translate_percent={\"x\": (-0.15, 0.15), \"y\": (-0.17, 0.17)},\n",
    "                    rotate=(-25, 25),\n",
    "                    shear=(-8, 8)\n",
    "                ),\n",
    "            \n",
    "                sometimes(\n",
    "                    iaa.AdditiveGaussianNoise(scale=(0.09*255, 0.1*255))\n",
    "                ),\n",
    "                \n",
    "                iaa.OneOf([\n",
    "                    # Add a value of -10 to 10 to each pixel.\n",
    "                    iaa.Add((0, 5), per_channel=1),\n",
    "                    # Change brightness of images (50-150% of original value).\n",
    "                    iaa.Multiply((0.3, 0.6), per_channel=1,),\n",
    "                ])\n",
    "            ],\n",
    "            random_order=True\n",
    "        )"
   ]
  },
  {
   "cell_type": "code",
   "execution_count": 38,
   "metadata": {
    "ExecuteTime": {
     "end_time": "2020-07-10T19:15:00.090209Z",
     "start_time": "2020-07-10T19:15:00.073901Z"
    }
   },
   "outputs": [],
   "source": [
    "# function to convert BoundingBoxesOnImage object into DataFrame\n",
    "def bbs_obj_to_df(bbs_object):\n",
    "#     convert BoundingBoxesOnImage object into array\n",
    "    bbs_array = bbs_object.to_xyxy_array()\n",
    "#     convert array into a DataFrame ['xmin', 'ymin', 'xmax', 'ymax'] columns\n",
    "    df_bbs = pd.DataFrame(bbs_array, columns=['xmin', 'ymin', 'xmax', 'ymax'])\n",
    "    return df_bbs"
   ]
  },
  {
   "cell_type": "code",
   "execution_count": 39,
   "metadata": {
    "ExecuteTime": {
     "end_time": "2020-07-10T19:15:00.407999Z",
     "start_time": "2020-07-10T19:15:00.383507Z"
    }
   },
   "outputs": [],
   "source": [
    "def image_augmentation(df, images_path, aug_images_path, image_prefix, augmentor):\n",
    "    # create data frame which we're going to populate with augmented image info\n",
    "    aug_bbs_xy = pd.DataFrame(columns=\n",
    "                              ['filename','width','height','class', 'xmin', 'ymin', 'xmax', 'ymax']\n",
    "                             )\n",
    "    grouped = df.groupby('filename')\n",
    "    \n",
    "    for filename in df['filename'].unique():\n",
    "    #   get separate data frame grouped by file name\n",
    "        group_df = grouped.get_group(filename)\n",
    "        group_df = group_df.reset_index()\n",
    "        group_df = group_df.drop(['index'], axis=1)   \n",
    "    #   read the image\n",
    "        image = imageio.imread(images_path+filename)\n",
    "    #   get bounding boxes coordinates and write into array        \n",
    "        bb_array = group_df.drop(['filename', 'width', 'height', 'class'], axis=1).values\n",
    "    #   pass the array of bounding boxes coordinates to the imgaug library\n",
    "        bbs = BoundingBoxesOnImage.from_xyxy_array(bb_array, shape=image.shape)\n",
    "    #   apply augmentation on image and on the bounding boxes\n",
    "        image_aug, bbs_aug = augmentor(image=image, bounding_boxes=bbs)\n",
    "    #   disregard bounding boxes which have fallen out of image pane    \n",
    "        bbs_aug = bbs_aug.remove_out_of_image()\n",
    "    #   clip bounding boxes which are partially outside of image pane\n",
    "        bbs_aug = bbs_aug.clip_out_of_image()\n",
    "        \n",
    "    #   don't perform any actions with the image if there are no bounding boxes left in it    \n",
    "        if re.findall('Image...', str(bbs_aug)) == ['Image([]']:\n",
    "            pass\n",
    "        \n",
    "    #   otherwise continue\n",
    "        else:\n",
    "        #   write augmented image to a file\n",
    "            imageio.imwrite(aug_images_path+image_prefix+filename, image_aug)  \n",
    "        #   create a data frame with augmented values of image width and height\n",
    "            info_df = group_df.drop(['xmin', 'ymin', 'xmax', 'ymax'], axis=1)    \n",
    "            for index, _ in info_df.iterrows():\n",
    "                info_df.at[index, 'width'] = image_aug.shape[1]\n",
    "                info_df.at[index, 'height'] = image_aug.shape[0]\n",
    "        #   rename filenames by adding the predifined prefix\n",
    "            info_df['filename'] = info_df['filename'].apply(lambda x: image_prefix+x)\n",
    "        #   create a data frame with augmented bounding boxes coordinates using the function we created earlier\n",
    "            bbs_df = bbs_obj_to_df(bbs_aug)\n",
    "        #   concat all new augmented info into new data frame\n",
    "            aug_df = pd.concat([info_df, bbs_df], axis=1)\n",
    "        #   append rows to aug_bbs_xy data frame\n",
    "            aug_bbs_xy = pd.concat([aug_bbs_xy, aug_df])            \n",
    "    \n",
    "    # return dataframe with updated images and bounding boxes annotations \n",
    "    aug_bbs_xy = aug_bbs_xy.reset_index()\n",
    "    aug_bbs_xy = aug_bbs_xy.drop(['index'], axis=1)\n",
    "    return aug_bbs_xy"
   ]
  },
  {
   "cell_type": "code",
   "execution_count": 40,
   "metadata": {
    "ExecuteTime": {
     "end_time": "2020-07-10T19:16:57.625883Z",
     "start_time": "2020-07-10T19:15:00.751275Z"
    }
   },
   "outputs": [
    {
     "name": "stdout",
     "output_type": "stream",
     "text": [
      "Enter destination folder name: aug_images\n"
     ]
    }
   ],
   "source": [
    "destination_folder = input(\"Enter destination folder name: \")\n",
    "\n",
    "if os.path.isdir(destination_folder):\n",
    "    shutil.rmtree(destination_folder)\n",
    "\n",
    "os.makedirs(destination_folder)\n",
    "\n",
    "augmented_images_df = image_augmentation(labels_df, 'resized_images/', f'{destination_folder}/', 'aug_', aug)"
   ]
  },
  {
   "cell_type": "markdown",
   "metadata": {},
   "source": [
    "#  Merge resized and augmented images"
   ]
  },
  {
   "cell_type": "code",
   "execution_count": 41,
   "metadata": {
    "ExecuteTime": {
     "end_time": "2020-07-10T19:18:04.936966Z",
     "start_time": "2020-07-10T19:18:04.877960Z"
    }
   },
   "outputs": [],
   "source": [
    "# merging dataframe\n",
    "\n",
    "all_labels_df = pd.concat([labels_df, augmented_images_df])\n",
    "all_labels_df.to_csv('all_labels.csv', index=False)"
   ]
  },
  {
   "cell_type": "code",
   "execution_count": 43,
   "metadata": {
    "ExecuteTime": {
     "end_time": "2020-07-10T19:19:00.109588Z",
     "start_time": "2020-07-10T19:18:33.738466Z"
    }
   },
   "outputs": [],
   "source": [
    "# merging folder\n",
    "\n",
    "for file in os.listdir(destination_folder):\n",
    "    shutil.copy(f'{destination_folder}/{file}', f'resized_images/{file}')\n",
    "    \n",
    "shutil.rmtree(destination_folder)"
   ]
  },
  {
   "cell_type": "code",
   "execution_count": 44,
   "metadata": {
    "ExecuteTime": {
     "end_time": "2020-07-10T19:19:00.209546Z",
     "start_time": "2020-07-10T19:19:00.177651Z"
    }
   },
   "outputs": [
    {
     "data": {
      "text/html": [
       "<div>\n",
       "<style scoped>\n",
       "    .dataframe tbody tr th:only-of-type {\n",
       "        vertical-align: middle;\n",
       "    }\n",
       "\n",
       "    .dataframe tbody tr th {\n",
       "        vertical-align: top;\n",
       "    }\n",
       "\n",
       "    .dataframe thead th {\n",
       "        text-align: right;\n",
       "    }\n",
       "</style>\n",
       "<table border=\"1\" class=\"dataframe\">\n",
       "  <thead>\n",
       "    <tr style=\"text-align: right;\">\n",
       "      <th></th>\n",
       "      <th>filename</th>\n",
       "      <th>width</th>\n",
       "      <th>height</th>\n",
       "      <th>class</th>\n",
       "      <th>xmin</th>\n",
       "      <th>ymin</th>\n",
       "      <th>xmax</th>\n",
       "      <th>ymax</th>\n",
       "    </tr>\n",
       "  </thead>\n",
       "  <tbody>\n",
       "    <tr>\n",
       "      <th>0</th>\n",
       "      <td>Bus_1.jpg</td>\n",
       "      <td>320</td>\n",
       "      <td>320</td>\n",
       "      <td>Bus</td>\n",
       "      <td>110.000000</td>\n",
       "      <td>50.000000</td>\n",
       "      <td>291.000000</td>\n",
       "      <td>208.000000</td>\n",
       "    </tr>\n",
       "    <tr>\n",
       "      <th>1</th>\n",
       "      <td>Bus_10.jpg</td>\n",
       "      <td>320</td>\n",
       "      <td>320</td>\n",
       "      <td>Bus</td>\n",
       "      <td>0.000000</td>\n",
       "      <td>143.000000</td>\n",
       "      <td>69.000000</td>\n",
       "      <td>274.000000</td>\n",
       "    </tr>\n",
       "    <tr>\n",
       "      <th>2</th>\n",
       "      <td>Bus_100.jpg</td>\n",
       "      <td>320</td>\n",
       "      <td>320</td>\n",
       "      <td>Bus</td>\n",
       "      <td>46.000000</td>\n",
       "      <td>77.000000</td>\n",
       "      <td>268.000000</td>\n",
       "      <td>264.000000</td>\n",
       "    </tr>\n",
       "    <tr>\n",
       "      <th>3</th>\n",
       "      <td>Bus_101.jpg</td>\n",
       "      <td>320</td>\n",
       "      <td>320</td>\n",
       "      <td>Bus</td>\n",
       "      <td>0.000000</td>\n",
       "      <td>74.000000</td>\n",
       "      <td>19.000000</td>\n",
       "      <td>222.000000</td>\n",
       "    </tr>\n",
       "    <tr>\n",
       "      <th>4</th>\n",
       "      <td>Bus_101.jpg</td>\n",
       "      <td>320</td>\n",
       "      <td>320</td>\n",
       "      <td>Bus</td>\n",
       "      <td>37.000000</td>\n",
       "      <td>47.000000</td>\n",
       "      <td>265.000000</td>\n",
       "      <td>256.000000</td>\n",
       "    </tr>\n",
       "    <tr>\n",
       "      <th>...</th>\n",
       "      <td>...</td>\n",
       "      <td>...</td>\n",
       "      <td>...</td>\n",
       "      <td>...</td>\n",
       "      <td>...</td>\n",
       "      <td>...</td>\n",
       "      <td>...</td>\n",
       "      <td>...</td>\n",
       "    </tr>\n",
       "    <tr>\n",
       "      <th>3059</th>\n",
       "      <td>aug_Traffic_sign_97.jpg</td>\n",
       "      <td>320</td>\n",
       "      <td>320</td>\n",
       "      <td>Traffic_sign</td>\n",
       "      <td>143.087204</td>\n",
       "      <td>58.048317</td>\n",
       "      <td>166.307129</td>\n",
       "      <td>96.168304</td>\n",
       "    </tr>\n",
       "    <tr>\n",
       "      <th>3060</th>\n",
       "      <td>aug_Traffic_sign_97.jpg</td>\n",
       "      <td>320</td>\n",
       "      <td>320</td>\n",
       "      <td>Traffic_sign</td>\n",
       "      <td>188.131012</td>\n",
       "      <td>62.395237</td>\n",
       "      <td>198.210587</td>\n",
       "      <td>88.838173</td>\n",
       "    </tr>\n",
       "    <tr>\n",
       "      <th>3061</th>\n",
       "      <td>aug_Traffic_sign_98.jpg</td>\n",
       "      <td>320</td>\n",
       "      <td>320</td>\n",
       "      <td>Traffic_sign</td>\n",
       "      <td>212.000000</td>\n",
       "      <td>129.000000</td>\n",
       "      <td>272.000000</td>\n",
       "      <td>146.000000</td>\n",
       "    </tr>\n",
       "    <tr>\n",
       "      <th>3062</th>\n",
       "      <td>aug_Traffic_sign_99.jpg</td>\n",
       "      <td>320</td>\n",
       "      <td>320</td>\n",
       "      <td>Traffic_sign</td>\n",
       "      <td>30.814295</td>\n",
       "      <td>53.848358</td>\n",
       "      <td>151.981308</td>\n",
       "      <td>202.248077</td>\n",
       "    </tr>\n",
       "    <tr>\n",
       "      <th>3063</th>\n",
       "      <td>aug_Traffic_sign_99.jpg</td>\n",
       "      <td>320</td>\n",
       "      <td>320</td>\n",
       "      <td>Traffic_sign</td>\n",
       "      <td>98.558098</td>\n",
       "      <td>146.714752</td>\n",
       "      <td>210.554153</td>\n",
       "      <td>286.098236</td>\n",
       "    </tr>\n",
       "  </tbody>\n",
       "</table>\n",
       "<p>6139 rows × 8 columns</p>\n",
       "</div>"
      ],
      "text/plain": [
       "                     filename width height         class        xmin  \\\n",
       "0                   Bus_1.jpg   320    320           Bus  110.000000   \n",
       "1                  Bus_10.jpg   320    320           Bus    0.000000   \n",
       "2                 Bus_100.jpg   320    320           Bus   46.000000   \n",
       "3                 Bus_101.jpg   320    320           Bus    0.000000   \n",
       "4                 Bus_101.jpg   320    320           Bus   37.000000   \n",
       "...                       ...   ...    ...           ...         ...   \n",
       "3059  aug_Traffic_sign_97.jpg   320    320  Traffic_sign  143.087204   \n",
       "3060  aug_Traffic_sign_97.jpg   320    320  Traffic_sign  188.131012   \n",
       "3061  aug_Traffic_sign_98.jpg   320    320  Traffic_sign  212.000000   \n",
       "3062  aug_Traffic_sign_99.jpg   320    320  Traffic_sign   30.814295   \n",
       "3063  aug_Traffic_sign_99.jpg   320    320  Traffic_sign   98.558098   \n",
       "\n",
       "            ymin        xmax        ymax  \n",
       "0      50.000000  291.000000  208.000000  \n",
       "1     143.000000   69.000000  274.000000  \n",
       "2      77.000000  268.000000  264.000000  \n",
       "3      74.000000   19.000000  222.000000  \n",
       "4      47.000000  265.000000  256.000000  \n",
       "...          ...         ...         ...  \n",
       "3059   58.048317  166.307129   96.168304  \n",
       "3060   62.395237  198.210587   88.838173  \n",
       "3061  129.000000  272.000000  146.000000  \n",
       "3062   53.848358  151.981308  202.248077  \n",
       "3063  146.714752  210.554153  286.098236  \n",
       "\n",
       "[6139 rows x 8 columns]"
      ]
     },
     "execution_count": 44,
     "metadata": {},
     "output_type": "execute_result"
    }
   ],
   "source": [
    "all_labels_df"
   ]
  }
 ],
 "metadata": {
  "kernelspec": {
   "display_name": "Python [conda env:sih3]",
   "language": "python",
   "name": "conda-env-sih3-py"
  },
  "language_info": {
   "codemirror_mode": {
    "name": "ipython",
    "version": 3
   },
   "file_extension": ".py",
   "mimetype": "text/x-python",
   "name": "python",
   "nbconvert_exporter": "python",
   "pygments_lexer": "ipython3",
   "version": "3.7.7"
  },
  "toc": {
   "base_numbering": "1",
   "nav_menu": {},
   "number_sections": true,
   "sideBar": true,
   "skip_h1_title": false,
   "title_cell": "Table of Contents",
   "title_sidebar": "Contents",
   "toc_cell": true,
   "toc_position": {},
   "toc_section_display": true,
   "toc_window_display": false
  },
  "varInspector": {
   "cols": {
    "lenName": 16,
    "lenType": 16,
    "lenVar": 40
   },
   "kernels_config": {
    "python": {
     "delete_cmd_postfix": "",
     "delete_cmd_prefix": "del ",
     "library": "var_list.py",
     "varRefreshCmd": "print(var_dic_list())"
    },
    "r": {
     "delete_cmd_postfix": ") ",
     "delete_cmd_prefix": "rm(",
     "library": "var_list.r",
     "varRefreshCmd": "cat(var_dic_list()) "
    }
   },
   "types_to_exclude": [
    "module",
    "function",
    "builtin_function_or_method",
    "instance",
    "_Feature"
   ],
   "window_display": false
  }
 },
 "nbformat": 4,
 "nbformat_minor": 2
}
